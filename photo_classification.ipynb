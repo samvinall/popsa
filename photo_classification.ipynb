{
 "cells": [
  {
   "cell_type": "code",
   "execution_count": 1,
   "id": "ba1ec46b-3b56-41ac-92f1-fd3bd494e1af",
   "metadata": {},
   "outputs": [],
   "source": [
    "import re\n",
    "import json\n",
    "import os\n",
    "import pandas as pd\n",
    "import pickle\n",
    "import numpy as np"
   ]
  },
  {
   "cell_type": "code",
   "execution_count": 2,
   "id": "13ce6aec-ccde-42eb-b825-4a3350174732",
   "metadata": {},
   "outputs": [],
   "source": [
    "import itertools\n"
   ]
  },
  {
   "cell_type": "code",
   "execution_count": 3,
   "id": "8eb99753-a0b8-44f4-8ec5-663b837a652e",
   "metadata": {},
   "outputs": [],
   "source": [
    "filenames = [\n",
    "    [\n",
    "        (folder, f'data/{folder}/{file}') \n",
    "        for file in os.listdir(f'data/{folder}') \n",
    "        if '.json' in file \n",
    "    ] \n",
    "    for folder in os.listdir('data')\n",
    "]\n"
   ]
  },
  {
   "cell_type": "code",
   "execution_count": 4,
   "id": "a0b4b98c-ec5e-4176-8b5c-575f41b62b3c",
   "metadata": {},
   "outputs": [],
   "source": [
    "data = pd.DataFrame(data = itertools.chain(*filenames))\n",
    "data.columns = ['label', 'filename']"
   ]
  },
  {
   "cell_type": "code",
   "execution_count": 5,
   "id": "0197bd92-15c4-4e47-808b-13c1f8e03169",
   "metadata": {},
   "outputs": [
    {
     "data": {
      "text/html": [
       "<div>\n",
       "<style scoped>\n",
       "    .dataframe tbody tr th:only-of-type {\n",
       "        vertical-align: middle;\n",
       "    }\n",
       "\n",
       "    .dataframe tbody tr th {\n",
       "        vertical-align: top;\n",
       "    }\n",
       "\n",
       "    .dataframe thead th {\n",
       "        text-align: right;\n",
       "    }\n",
       "</style>\n",
       "<table border=\"1\" class=\"dataframe\">\n",
       "  <thead>\n",
       "    <tr style=\"text-align: right;\">\n",
       "      <th></th>\n",
       "      <th>label</th>\n",
       "      <th>filename</th>\n",
       "    </tr>\n",
       "  </thead>\n",
       "  <tbody>\n",
       "    <tr>\n",
       "      <th>0</th>\n",
       "      <td>summer-with-grandkids</td>\n",
       "      <td>data/summer-with-grandkids/Image_32.jpg.json</td>\n",
       "    </tr>\n",
       "    <tr>\n",
       "      <th>1</th>\n",
       "      <td>summer-with-grandkids</td>\n",
       "      <td>data/summer-with-grandkids/Image_33.jpg.json</td>\n",
       "    </tr>\n",
       "    <tr>\n",
       "      <th>2</th>\n",
       "      <td>summer-with-grandkids</td>\n",
       "      <td>data/summer-with-grandkids/Image_104.jpg.json</td>\n",
       "    </tr>\n",
       "    <tr>\n",
       "      <th>3</th>\n",
       "      <td>summer-with-grandkids</td>\n",
       "      <td>data/summer-with-grandkids/Image_105.jpg.json</td>\n",
       "    </tr>\n",
       "    <tr>\n",
       "      <th>4</th>\n",
       "      <td>summer-with-grandkids</td>\n",
       "      <td>data/summer-with-grandkids/Image_45.jpg.json</td>\n",
       "    </tr>\n",
       "    <tr>\n",
       "      <th>...</th>\n",
       "      <td>...</td>\n",
       "      <td>...</td>\n",
       "    </tr>\n",
       "    <tr>\n",
       "      <th>308</th>\n",
       "      <td>day-at-beach</td>\n",
       "      <td>data/day-at-beach/Image_14.jpg.json</td>\n",
       "    </tr>\n",
       "    <tr>\n",
       "      <th>309</th>\n",
       "      <td>day-at-beach</td>\n",
       "      <td>data/day-at-beach/Image_21.jpg.json</td>\n",
       "    </tr>\n",
       "    <tr>\n",
       "      <th>310</th>\n",
       "      <td>day-at-beach</td>\n",
       "      <td>data/day-at-beach/Image_20.jpg.json</td>\n",
       "    </tr>\n",
       "    <tr>\n",
       "      <th>311</th>\n",
       "      <td>day-at-beach</td>\n",
       "      <td>data/day-at-beach/Image_56.jpg.json</td>\n",
       "    </tr>\n",
       "    <tr>\n",
       "      <th>312</th>\n",
       "      <td>day-at-beach</td>\n",
       "      <td>data/day-at-beach/Image_57.jpg.json</td>\n",
       "    </tr>\n",
       "  </tbody>\n",
       "</table>\n",
       "<p>313 rows × 2 columns</p>\n",
       "</div>"
      ],
      "text/plain": [
       "                     label                                       filename\n",
       "0    summer-with-grandkids   data/summer-with-grandkids/Image_32.jpg.json\n",
       "1    summer-with-grandkids   data/summer-with-grandkids/Image_33.jpg.json\n",
       "2    summer-with-grandkids  data/summer-with-grandkids/Image_104.jpg.json\n",
       "3    summer-with-grandkids  data/summer-with-grandkids/Image_105.jpg.json\n",
       "4    summer-with-grandkids   data/summer-with-grandkids/Image_45.jpg.json\n",
       "..                     ...                                            ...\n",
       "308           day-at-beach            data/day-at-beach/Image_14.jpg.json\n",
       "309           day-at-beach            data/day-at-beach/Image_21.jpg.json\n",
       "310           day-at-beach            data/day-at-beach/Image_20.jpg.json\n",
       "311           day-at-beach            data/day-at-beach/Image_56.jpg.json\n",
       "312           day-at-beach            data/day-at-beach/Image_57.jpg.json\n",
       "\n",
       "[313 rows x 2 columns]"
      ]
     },
     "execution_count": 5,
     "metadata": {},
     "output_type": "execute_result"
    }
   ],
   "source": [
    "data"
   ]
  },
  {
   "cell_type": "markdown",
   "id": "0e5f687f-1ff6-427f-bf86-81ef1a23e8b2",
   "metadata": {},
   "source": [
    "# define functions for preprocessing"
   ]
  },
  {
   "cell_type": "markdown",
   "id": "4e62af43-8332-49be-83f6-423e9e6530ca",
   "metadata": {},
   "source": [
    "To extract info from the provided JPEGs, we have chosen to simply adding a label to a datapoint in binary fashion\n",
    "\n",
    "- is an image associated with x label yes or no\n",
    "- also add a \"confidence filter\" where we only include labels if they  are above a certain confidence"
   ]
  },
  {
   "cell_type": "code",
   "execution_count": 14,
   "id": "6f814717-8cae-474c-889d-99876bf27d07",
   "metadata": {},
   "outputs": [],
   "source": [
    "def read_img_json(filename):\n",
    "    with open(filename, 'r') as f:\n",
    "    # Load the data from the file using the custom decoder\n",
    "        data = json.load(f, cls=UnquotedPropertyDecoder)\n",
    "    return data\n",
    "\n",
    "class UnquotedPropertyDecoder(json.JSONDecoder):\n",
    "    def decode(self, s, *args, **kwargs):\n",
    "        # Replace unquoted property names with quoted property names\n",
    "        s = re.sub(r'([{,]\\s*)(\\w+)(\\s*:)', r'\\1\"\\2\"\\3', s)\n",
    "        return super(UnquotedPropertyDecoder, self).decode(s, *args, **kwargs)\n",
    "\n",
    "\n",
    "\n",
    "\n",
    "def get_all_labels(confidence):\n",
    "\n",
    "    all_labels = []\n",
    "    for i in data.filename:\n",
    "        row_data = read_img_json(os.path.join(i))    \n",
    "        #print(data)\n",
    "        labels = [\n",
    "            x.get('Name') \n",
    "            for x in row_data['Labels']\n",
    "            if x.get('Confidence') > confidence\n",
    "        ]\n",
    "        all_labels.extend(labels)\n",
    "    return all_labels"
   ]
  },
  {
   "cell_type": "code",
   "execution_count": 16,
   "id": "c29aa701-a395-4463-bd2b-c24f97424a19",
   "metadata": {},
   "outputs": [],
   "source": [
    "\n",
    "\n",
    "def extract_labels(X, confidence = 0.5):\n",
    "    \n",
    "    all_labels = sorted(list(set(get_all_labels(confidence))))\n",
    "\n",
    "    \n",
    "    def row_extract(X):\n",
    "        data = read_img_json(X.filename)    \n",
    "        \n",
    "        labels = [\n",
    "            x.get('Name')\n",
    "            for x in data['Labels']\n",
    "            if x.get('Confidence') > confidence\n",
    "        ]        \n",
    "        \n",
    "        row = []\n",
    "        for i in all_labels:\n",
    "            row.append(1 if i in labels else 0)\n",
    "            \n",
    "        return pd.Series(row, all_labels)\n",
    "    \n",
    "    \n",
    "    \n",
    "    X = X.apply(row_extract, axis = 1)\n",
    "    \n",
    "    X.columns = [i.lower() for i in all_labels]\n",
    "\n",
    "    return X\n"
   ]
  },
  {
   "cell_type": "code",
   "execution_count": 17,
   "id": "ee03948e-625b-41b4-817a-b33a5772fb12",
   "metadata": {},
   "outputs": [
    {
     "name": "stdout",
     "output_type": "stream",
     "text": [
      "147 ms ± 1.31 ms per loop (mean ± std. dev. of 7 runs, 1 loop each)\n"
     ]
    }
   ],
   "source": [
    "%%timeit\n",
    "\n",
    "extract_labels(data.drop(columns=['label']))"
   ]
  },
  {
   "cell_type": "code",
   "execution_count": 21,
   "id": "863ee229-4c5c-4747-8b5e-3658c113858b",
   "metadata": {},
   "outputs": [],
   "source": [
    "out = extract_labels(data.drop(columns=['label']))"
   ]
  },
  {
   "cell_type": "markdown",
   "id": "2ef526ca-2acc-4d32-bbd3-d7592430b846",
   "metadata": {},
   "source": [
    "Next, we perform some filter selection.\n",
    "\n",
    "We must remove highly correlated features to avoid multicolinearity and improve interpretability.  \n",
    "\n",
    "With this data this is especially important where we have similar labels such as \"accessory\" vs \"accessories\"\n",
    "\n",
    "The way we select which variable to keep here is by selecting the most common one."
   ]
  },
  {
   "cell_type": "code",
   "execution_count": 22,
   "id": "c525d4cd-ffa7-4883-96e8-6b521a1579c1",
   "metadata": {},
   "outputs": [],
   "source": [
    "def feature_select(X, correlation_limit = 0.5, confidence = 0.5):\n",
    "    \n",
    "    all_labels = get_all_labels(confidence)\n",
    "    label_counts = pd.Series(all_labels).value_counts()\n",
    "    label_counts.index = [i.lower() for i in label_counts.index.values]\n",
    "\n",
    "    \n",
    "    corrs = out.corr()\n",
    "    keep_vars = []\n",
    "    for i in corrs:\n",
    "        highs = corrs[i][corrs[i]>correlation_limit]\n",
    "        ranked = pd.merge(highs, pd.DataFrame(label_counts), left_index=True, right_index=True)\n",
    "        keep_vars.append(ranked.sort_values(0, ascending=False).iloc[0].name)\n",
    "\n",
    "    model_data = X[sorted(list(set(keep_vars)))]\n",
    "    \n",
    "    \n",
    "    \n",
    "    \n",
    "    return model_data"
   ]
  },
  {
   "cell_type": "code",
   "execution_count": 23,
   "id": "63933ab1-83a1-4cfc-8158-6ab00a536563",
   "metadata": {},
   "outputs": [
    {
     "name": "stdout",
     "output_type": "stream",
     "text": [
      "409 ms ± 1.8 ms per loop (mean ± std. dev. of 7 runs, 1 loop each)\n"
     ]
    }
   ],
   "source": [
    "%%timeit\n",
    "feature_select(\n",
    "\n",
    "    extract_labels(data.drop(columns=['label']))\n",
    ")"
   ]
  },
  {
   "cell_type": "code",
   "execution_count": 24,
   "id": "fae8527e-96b9-470f-ab4a-977b76b558a3",
   "metadata": {},
   "outputs": [],
   "source": [
    "def preprocess(X, correlation_limit = 0.5, confidence = 0.5):\n",
    "    \n",
    "    data = extract_labels(X, confidence)\n",
    "    data = feature_select(data, correlation_limit, confidence)\n",
    "    \n",
    "    return data"
   ]
  },
  {
   "cell_type": "code",
   "execution_count": 25,
   "id": "489b967d-b45b-4ada-b4ed-f149c0d3293c",
   "metadata": {},
   "outputs": [
    {
     "name": "stdout",
     "output_type": "stream",
     "text": [
      "415 ms ± 3.55 ms per loop (mean ± std. dev. of 7 runs, 1 loop each)\n"
     ]
    }
   ],
   "source": [
    "%%timeit\n",
    "\n",
    "preprocess(data.drop(columns=['label']))"
   ]
  },
  {
   "cell_type": "markdown",
   "id": "1237fb13-c0d8-431d-9ba6-02ad8d0d9895",
   "metadata": {},
   "source": [
    "# Modelling"
   ]
  },
  {
   "cell_type": "code",
   "execution_count": 26,
   "id": "7b545eea-ab57-4a57-b800-dce16c3c7d05",
   "metadata": {},
   "outputs": [],
   "source": [
    "from imblearn.pipeline import Pipeline\n",
    "from sklearn.preprocessing import FunctionTransformer\n",
    "from imblearn.over_sampling import RandomOverSampler \n",
    "from sklearn.multiclass import OneVsRestClassifier\n",
    "from sklearn.linear_model import LogisticRegression"
   ]
  },
  {
   "cell_type": "markdown",
   "id": "35b62eb2-2da6-46f8-a2a7-ee55fb19f3d6",
   "metadata": {},
   "source": [
    "## Logistic regression"
   ]
  },
  {
   "cell_type": "markdown",
   "id": "fdaf3cac-004e-4794-bb8f-c8de7e588dbc",
   "metadata": {},
   "source": [
    "First, we explore Logistic regression\n",
    "\n",
    "If we can find a simple model that performs well, there is no need for the added complexity."
   ]
  },
  {
   "cell_type": "code",
   "execution_count": 27,
   "id": "8ad54083-b48e-44f2-a46a-7ebdef4ddada",
   "metadata": {},
   "outputs": [],
   "source": [
    "\n",
    "\n",
    "pipeline = Pipeline([\n",
    "    ('preprocess', FunctionTransformer(preprocess)),\n",
    "    ('oversampler', RandomOverSampler()),\n",
    "    ('classifier', OneVsRestClassifier(LogisticRegression(penalty='l1',\n",
    "                                                          random_state=42,\n",
    "                                                          solver ='liblinear')))\n",
    "])"
   ]
  },
  {
   "cell_type": "code",
   "execution_count": 28,
   "id": "3d1a219d-f7b4-4eea-aa2c-f3f44401b552",
   "metadata": {},
   "outputs": [
    {
     "data": {
      "text/html": [
       "<style>#sk-container-id-1 {color: black;background-color: white;}#sk-container-id-1 pre{padding: 0;}#sk-container-id-1 div.sk-toggleable {background-color: white;}#sk-container-id-1 label.sk-toggleable__label {cursor: pointer;display: block;width: 100%;margin-bottom: 0;padding: 0.3em;box-sizing: border-box;text-align: center;}#sk-container-id-1 label.sk-toggleable__label-arrow:before {content: \"▸\";float: left;margin-right: 0.25em;color: #696969;}#sk-container-id-1 label.sk-toggleable__label-arrow:hover:before {color: black;}#sk-container-id-1 div.sk-estimator:hover label.sk-toggleable__label-arrow:before {color: black;}#sk-container-id-1 div.sk-toggleable__content {max-height: 0;max-width: 0;overflow: hidden;text-align: left;background-color: #f0f8ff;}#sk-container-id-1 div.sk-toggleable__content pre {margin: 0.2em;color: black;border-radius: 0.25em;background-color: #f0f8ff;}#sk-container-id-1 input.sk-toggleable__control:checked~div.sk-toggleable__content {max-height: 200px;max-width: 100%;overflow: auto;}#sk-container-id-1 input.sk-toggleable__control:checked~label.sk-toggleable__label-arrow:before {content: \"▾\";}#sk-container-id-1 div.sk-estimator input.sk-toggleable__control:checked~label.sk-toggleable__label {background-color: #d4ebff;}#sk-container-id-1 div.sk-label input.sk-toggleable__control:checked~label.sk-toggleable__label {background-color: #d4ebff;}#sk-container-id-1 input.sk-hidden--visually {border: 0;clip: rect(1px 1px 1px 1px);clip: rect(1px, 1px, 1px, 1px);height: 1px;margin: -1px;overflow: hidden;padding: 0;position: absolute;width: 1px;}#sk-container-id-1 div.sk-estimator {font-family: monospace;background-color: #f0f8ff;border: 1px dotted black;border-radius: 0.25em;box-sizing: border-box;margin-bottom: 0.5em;}#sk-container-id-1 div.sk-estimator:hover {background-color: #d4ebff;}#sk-container-id-1 div.sk-parallel-item::after {content: \"\";width: 100%;border-bottom: 1px solid gray;flex-grow: 1;}#sk-container-id-1 div.sk-label:hover label.sk-toggleable__label {background-color: #d4ebff;}#sk-container-id-1 div.sk-serial::before {content: \"\";position: absolute;border-left: 1px solid gray;box-sizing: border-box;top: 0;bottom: 0;left: 50%;z-index: 0;}#sk-container-id-1 div.sk-serial {display: flex;flex-direction: column;align-items: center;background-color: white;padding-right: 0.2em;padding-left: 0.2em;position: relative;}#sk-container-id-1 div.sk-item {position: relative;z-index: 1;}#sk-container-id-1 div.sk-parallel {display: flex;align-items: stretch;justify-content: center;background-color: white;position: relative;}#sk-container-id-1 div.sk-item::before, #sk-container-id-1 div.sk-parallel-item::before {content: \"\";position: absolute;border-left: 1px solid gray;box-sizing: border-box;top: 0;bottom: 0;left: 50%;z-index: -1;}#sk-container-id-1 div.sk-parallel-item {display: flex;flex-direction: column;z-index: 1;position: relative;background-color: white;}#sk-container-id-1 div.sk-parallel-item:first-child::after {align-self: flex-end;width: 50%;}#sk-container-id-1 div.sk-parallel-item:last-child::after {align-self: flex-start;width: 50%;}#sk-container-id-1 div.sk-parallel-item:only-child::after {width: 0;}#sk-container-id-1 div.sk-dashed-wrapped {border: 1px dashed gray;margin: 0 0.4em 0.5em 0.4em;box-sizing: border-box;padding-bottom: 0.4em;background-color: white;}#sk-container-id-1 div.sk-label label {font-family: monospace;font-weight: bold;display: inline-block;line-height: 1.2em;}#sk-container-id-1 div.sk-label-container {text-align: center;}#sk-container-id-1 div.sk-container {/* jupyter's `normalize.less` sets `[hidden] { display: none; }` but bootstrap.min.css set `[hidden] { display: none !important; }` so we also need the `!important` here to be able to override the default hidden behavior on the sphinx rendered scikit-learn.org. See: https://github.com/scikit-learn/scikit-learn/issues/21755 */display: inline-block !important;position: relative;}#sk-container-id-1 div.sk-text-repr-fallback {display: none;}</style><div id=\"sk-container-id-1\" class=\"sk-top-container\"><div class=\"sk-text-repr-fallback\"><pre>Pipeline(steps=[(&#x27;preprocess&#x27;,\n",
       "                 FunctionTransformer(func=&lt;function preprocess at 0x137ee03a0&gt;)),\n",
       "                (&#x27;oversampler&#x27;, RandomOverSampler()),\n",
       "                (&#x27;classifier&#x27;,\n",
       "                 OneVsRestClassifier(estimator=LogisticRegression(penalty=&#x27;l1&#x27;,\n",
       "                                                                  random_state=42,\n",
       "                                                                  solver=&#x27;liblinear&#x27;)))])</pre><b>In a Jupyter environment, please rerun this cell to show the HTML representation or trust the notebook. <br />On GitHub, the HTML representation is unable to render, please try loading this page with nbviewer.org.</b></div><div class=\"sk-container\" hidden><div class=\"sk-item sk-dashed-wrapped\"><div class=\"sk-label-container\"><div class=\"sk-label sk-toggleable\"><input class=\"sk-toggleable__control sk-hidden--visually\" id=\"sk-estimator-id-1\" type=\"checkbox\" ><label for=\"sk-estimator-id-1\" class=\"sk-toggleable__label sk-toggleable__label-arrow\">Pipeline</label><div class=\"sk-toggleable__content\"><pre>Pipeline(steps=[(&#x27;preprocess&#x27;,\n",
       "                 FunctionTransformer(func=&lt;function preprocess at 0x137ee03a0&gt;)),\n",
       "                (&#x27;oversampler&#x27;, RandomOverSampler()),\n",
       "                (&#x27;classifier&#x27;,\n",
       "                 OneVsRestClassifier(estimator=LogisticRegression(penalty=&#x27;l1&#x27;,\n",
       "                                                                  random_state=42,\n",
       "                                                                  solver=&#x27;liblinear&#x27;)))])</pre></div></div></div><div class=\"sk-serial\"><div class=\"sk-item\"><div class=\"sk-estimator sk-toggleable\"><input class=\"sk-toggleable__control sk-hidden--visually\" id=\"sk-estimator-id-2\" type=\"checkbox\" ><label for=\"sk-estimator-id-2\" class=\"sk-toggleable__label sk-toggleable__label-arrow\">FunctionTransformer</label><div class=\"sk-toggleable__content\"><pre>FunctionTransformer(func=&lt;function preprocess at 0x137ee03a0&gt;)</pre></div></div></div><div class=\"sk-item\"><div class=\"sk-estimator sk-toggleable\"><input class=\"sk-toggleable__control sk-hidden--visually\" id=\"sk-estimator-id-3\" type=\"checkbox\" ><label for=\"sk-estimator-id-3\" class=\"sk-toggleable__label sk-toggleable__label-arrow\">RandomOverSampler</label><div class=\"sk-toggleable__content\"><pre>RandomOverSampler()</pre></div></div></div><div class=\"sk-item sk-dashed-wrapped\"><div class=\"sk-label-container\"><div class=\"sk-label sk-toggleable\"><input class=\"sk-toggleable__control sk-hidden--visually\" id=\"sk-estimator-id-4\" type=\"checkbox\" ><label for=\"sk-estimator-id-4\" class=\"sk-toggleable__label sk-toggleable__label-arrow\">classifier: OneVsRestClassifier</label><div class=\"sk-toggleable__content\"><pre>OneVsRestClassifier(estimator=LogisticRegression(penalty=&#x27;l1&#x27;, random_state=42,\n",
       "                                                 solver=&#x27;liblinear&#x27;))</pre></div></div></div><div class=\"sk-parallel\"><div class=\"sk-parallel-item\"><div class=\"sk-item\"><div class=\"sk-label-container\"><div class=\"sk-label sk-toggleable\"><input class=\"sk-toggleable__control sk-hidden--visually\" id=\"sk-estimator-id-5\" type=\"checkbox\" ><label for=\"sk-estimator-id-5\" class=\"sk-toggleable__label sk-toggleable__label-arrow\">estimator: LogisticRegression</label><div class=\"sk-toggleable__content\"><pre>LogisticRegression(penalty=&#x27;l1&#x27;, random_state=42, solver=&#x27;liblinear&#x27;)</pre></div></div></div><div class=\"sk-serial\"><div class=\"sk-item\"><div class=\"sk-estimator sk-toggleable\"><input class=\"sk-toggleable__control sk-hidden--visually\" id=\"sk-estimator-id-6\" type=\"checkbox\" ><label for=\"sk-estimator-id-6\" class=\"sk-toggleable__label sk-toggleable__label-arrow\">LogisticRegression</label><div class=\"sk-toggleable__content\"><pre>LogisticRegression(penalty=&#x27;l1&#x27;, random_state=42, solver=&#x27;liblinear&#x27;)</pre></div></div></div></div></div></div></div></div></div></div></div></div>"
      ],
      "text/plain": [
       "Pipeline(steps=[('preprocess',\n",
       "                 FunctionTransformer(func=<function preprocess at 0x137ee03a0>)),\n",
       "                ('oversampler', RandomOverSampler()),\n",
       "                ('classifier',\n",
       "                 OneVsRestClassifier(estimator=LogisticRegression(penalty='l1',\n",
       "                                                                  random_state=42,\n",
       "                                                                  solver='liblinear')))])"
      ]
     },
     "execution_count": 28,
     "metadata": {},
     "output_type": "execute_result"
    }
   ],
   "source": [
    "pipeline.fit(data.drop(columns=['label']), data.label)\n"
   ]
  },
  {
   "cell_type": "code",
   "execution_count": 29,
   "id": "c75874cf-950d-41b9-9e4f-6d9949281725",
   "metadata": {},
   "outputs": [
    {
     "data": {
      "text/plain": [
       "0.9968051118210862"
      ]
     },
     "execution_count": 29,
     "metadata": {},
     "output_type": "execute_result"
    }
   ],
   "source": [
    "pipeline.score(data.drop(columns=['label']), data.label)\n"
   ]
  },
  {
   "cell_type": "code",
   "execution_count": 30,
   "id": "89f774e8-2ff2-4425-9e93-76716dd8c952",
   "metadata": {},
   "outputs": [],
   "source": [
    "from sklearn.model_selection import train_test_split\n",
    "X_train, X_test, y_train, y_test = train_test_split(data.drop(columns=['label']), data.label, test_size=0.1, random_state=1)\n"
   ]
  },
  {
   "cell_type": "code",
   "execution_count": 31,
   "id": "2b4991dc-c0a6-4f53-a9ea-9b04f6df394d",
   "metadata": {},
   "outputs": [],
   "source": [
    "\n",
    "from sklearn.model_selection import cross_val_score\n",
    "from sklearn.model_selection import GridSearchCV"
   ]
  },
  {
   "cell_type": "code",
   "execution_count": 32,
   "id": "69f07a69-d77d-4cab-b636-3d29c09d961b",
   "metadata": {
    "collapsed": true,
    "jupyter": {
     "outputs_hidden": true
    },
    "tags": []
   },
   "outputs": [
    {
     "name": "stdout",
     "output_type": "stream",
     "text": [
      "Fitting 5 folds for each of 18 candidates, totalling 90 fits\n",
      "[CV] END classifier__estimator__C=1, preprocess__kw_args={'confidence': 0.5, 'correlation_limit': 0.5}; total time=   0.7s\n",
      "[CV] END classifier__estimator__C=1, preprocess__kw_args={'confidence': 0.5, 'correlation_limit': 0.5}; total time=   0.7s\n",
      "[CV] END classifier__estimator__C=1, preprocess__kw_args={'confidence': 0.5, 'correlation_limit': 0.5}; total time=   0.7s\n",
      "[CV] END classifier__estimator__C=1, preprocess__kw_args={'confidence': 0.5, 'correlation_limit': 0.5}; total time=   0.7s\n",
      "[CV] END classifier__estimator__C=1, preprocess__kw_args={'confidence': 0.5, 'correlation_limit': 0.5}; total time=   0.7s\n",
      "[CV] END classifier__estimator__C=1, preprocess__kw_args={'confidence': 0.5, 'correlation_limit': 0.7}; total time=   0.7s\n",
      "[CV] END classifier__estimator__C=1, preprocess__kw_args={'confidence': 0.5, 'correlation_limit': 0.7}; total time=   0.7s\n",
      "[CV] END classifier__estimator__C=1, preprocess__kw_args={'confidence': 0.5, 'correlation_limit': 0.7}; total time=   0.7s\n",
      "[CV] END classifier__estimator__C=1, preprocess__kw_args={'confidence': 0.5, 'correlation_limit': 0.7}; total time=   0.7s\n",
      "[CV] END classifier__estimator__C=1, preprocess__kw_args={'confidence': 0.5, 'correlation_limit': 0.7}; total time=   0.7s\n",
      "[CV] END classifier__estimator__C=1, preprocess__kw_args={'confidence': 0.5, 'correlation_limit': 0.9}; total time=   0.7s\n",
      "[CV] END classifier__estimator__C=1, preprocess__kw_args={'confidence': 0.5, 'correlation_limit': 0.9}; total time=   0.8s\n",
      "[CV] END classifier__estimator__C=1, preprocess__kw_args={'confidence': 0.5, 'correlation_limit': 0.9}; total time=   0.7s\n",
      "[CV] END classifier__estimator__C=1, preprocess__kw_args={'confidence': 0.5, 'correlation_limit': 0.9}; total time=   0.7s\n",
      "[CV] END classifier__estimator__C=1, preprocess__kw_args={'confidence': 0.5, 'correlation_limit': 0.9}; total time=   0.8s\n",
      "[CV] END classifier__estimator__C=1, preprocess__kw_args={'confidence': 0.7, 'correlation_limit': 0.5}; total time=   0.7s\n",
      "[CV] END classifier__estimator__C=1, preprocess__kw_args={'confidence': 0.7, 'correlation_limit': 0.5}; total time=   0.7s\n",
      "[CV] END classifier__estimator__C=1, preprocess__kw_args={'confidence': 0.7, 'correlation_limit': 0.5}; total time=   0.7s\n",
      "[CV] END classifier__estimator__C=1, preprocess__kw_args={'confidence': 0.7, 'correlation_limit': 0.5}; total time=   0.7s\n",
      "[CV] END classifier__estimator__C=1, preprocess__kw_args={'confidence': 0.7, 'correlation_limit': 0.5}; total time=   0.7s\n",
      "[CV] END classifier__estimator__C=1, preprocess__kw_args={'confidence': 0.7, 'correlation_limit': 0.7}; total time=   0.7s\n",
      "[CV] END classifier__estimator__C=1, preprocess__kw_args={'confidence': 0.7, 'correlation_limit': 0.7}; total time=   0.7s\n",
      "[CV] END classifier__estimator__C=1, preprocess__kw_args={'confidence': 0.7, 'correlation_limit': 0.7}; total time=   0.7s\n",
      "[CV] END classifier__estimator__C=1, preprocess__kw_args={'confidence': 0.7, 'correlation_limit': 0.7}; total time=   0.7s\n",
      "[CV] END classifier__estimator__C=1, preprocess__kw_args={'confidence': 0.7, 'correlation_limit': 0.7}; total time=   0.7s\n",
      "[CV] END classifier__estimator__C=1, preprocess__kw_args={'confidence': 0.7, 'correlation_limit': 0.9}; total time=   0.7s\n",
      "[CV] END classifier__estimator__C=1, preprocess__kw_args={'confidence': 0.7, 'correlation_limit': 0.9}; total time=   0.8s\n",
      "[CV] END classifier__estimator__C=1, preprocess__kw_args={'confidence': 0.7, 'correlation_limit': 0.9}; total time=   0.7s\n",
      "[CV] END classifier__estimator__C=1, preprocess__kw_args={'confidence': 0.7, 'correlation_limit': 0.9}; total time=   0.7s\n",
      "[CV] END classifier__estimator__C=1, preprocess__kw_args={'confidence': 0.7, 'correlation_limit': 0.9}; total time=   0.8s\n",
      "[CV] END classifier__estimator__C=1, preprocess__kw_args={'confidence': 0.9, 'correlation_limit': 0.5}; total time=   0.8s\n",
      "[CV] END classifier__estimator__C=1, preprocess__kw_args={'confidence': 0.9, 'correlation_limit': 0.5}; total time=   0.7s\n",
      "[CV] END classifier__estimator__C=1, preprocess__kw_args={'confidence': 0.9, 'correlation_limit': 0.5}; total time=   0.7s\n",
      "[CV] END classifier__estimator__C=1, preprocess__kw_args={'confidence': 0.9, 'correlation_limit': 0.5}; total time=   0.8s\n",
      "[CV] END classifier__estimator__C=1, preprocess__kw_args={'confidence': 0.9, 'correlation_limit': 0.5}; total time=   0.8s\n",
      "[CV] END classifier__estimator__C=1, preprocess__kw_args={'confidence': 0.9, 'correlation_limit': 0.7}; total time=   0.7s\n",
      "[CV] END classifier__estimator__C=1, preprocess__kw_args={'confidence': 0.9, 'correlation_limit': 0.7}; total time=   0.7s\n",
      "[CV] END classifier__estimator__C=1, preprocess__kw_args={'confidence': 0.9, 'correlation_limit': 0.7}; total time=   0.7s\n",
      "[CV] END classifier__estimator__C=1, preprocess__kw_args={'confidence': 0.9, 'correlation_limit': 0.7}; total time=   0.7s\n",
      "[CV] END classifier__estimator__C=1, preprocess__kw_args={'confidence': 0.9, 'correlation_limit': 0.7}; total time=   0.7s\n",
      "[CV] END classifier__estimator__C=1, preprocess__kw_args={'confidence': 0.9, 'correlation_limit': 0.9}; total time=   0.8s\n",
      "[CV] END classifier__estimator__C=1, preprocess__kw_args={'confidence': 0.9, 'correlation_limit': 0.9}; total time=   0.8s\n",
      "[CV] END classifier__estimator__C=1, preprocess__kw_args={'confidence': 0.9, 'correlation_limit': 0.9}; total time=   0.7s\n",
      "[CV] END classifier__estimator__C=1, preprocess__kw_args={'confidence': 0.9, 'correlation_limit': 0.9}; total time=   0.7s\n",
      "[CV] END classifier__estimator__C=1, preprocess__kw_args={'confidence': 0.9, 'correlation_limit': 0.9}; total time=   0.7s\n",
      "[CV] END classifier__estimator__C=0.1, preprocess__kw_args={'confidence': 0.5, 'correlation_limit': 0.5}; total time=   0.7s\n",
      "[CV] END classifier__estimator__C=0.1, preprocess__kw_args={'confidence': 0.5, 'correlation_limit': 0.5}; total time=   0.7s\n",
      "[CV] END classifier__estimator__C=0.1, preprocess__kw_args={'confidence': 0.5, 'correlation_limit': 0.5}; total time=   0.7s\n",
      "[CV] END classifier__estimator__C=0.1, preprocess__kw_args={'confidence': 0.5, 'correlation_limit': 0.5}; total time=   0.7s\n",
      "[CV] END classifier__estimator__C=0.1, preprocess__kw_args={'confidence': 0.5, 'correlation_limit': 0.5}; total time=   0.7s\n",
      "[CV] END classifier__estimator__C=0.1, preprocess__kw_args={'confidence': 0.5, 'correlation_limit': 0.7}; total time=   0.7s\n",
      "[CV] END classifier__estimator__C=0.1, preprocess__kw_args={'confidence': 0.5, 'correlation_limit': 0.7}; total time=   0.7s\n",
      "[CV] END classifier__estimator__C=0.1, preprocess__kw_args={'confidence': 0.5, 'correlation_limit': 0.7}; total time=   0.7s\n",
      "[CV] END classifier__estimator__C=0.1, preprocess__kw_args={'confidence': 0.5, 'correlation_limit': 0.7}; total time=   0.7s\n",
      "[CV] END classifier__estimator__C=0.1, preprocess__kw_args={'confidence': 0.5, 'correlation_limit': 0.7}; total time=   0.7s\n",
      "[CV] END classifier__estimator__C=0.1, preprocess__kw_args={'confidence': 0.5, 'correlation_limit': 0.9}; total time=   0.7s\n",
      "[CV] END classifier__estimator__C=0.1, preprocess__kw_args={'confidence': 0.5, 'correlation_limit': 0.9}; total time=   0.8s\n",
      "[CV] END classifier__estimator__C=0.1, preprocess__kw_args={'confidence': 0.5, 'correlation_limit': 0.9}; total time=   0.7s\n",
      "[CV] END classifier__estimator__C=0.1, preprocess__kw_args={'confidence': 0.5, 'correlation_limit': 0.9}; total time=   0.7s\n",
      "[CV] END classifier__estimator__C=0.1, preprocess__kw_args={'confidence': 0.5, 'correlation_limit': 0.9}; total time=   0.7s\n",
      "[CV] END classifier__estimator__C=0.1, preprocess__kw_args={'confidence': 0.7, 'correlation_limit': 0.5}; total time=   0.7s\n",
      "[CV] END classifier__estimator__C=0.1, preprocess__kw_args={'confidence': 0.7, 'correlation_limit': 0.5}; total time=   0.7s\n",
      "[CV] END classifier__estimator__C=0.1, preprocess__kw_args={'confidence': 0.7, 'correlation_limit': 0.5}; total time=   0.7s\n",
      "[CV] END classifier__estimator__C=0.1, preprocess__kw_args={'confidence': 0.7, 'correlation_limit': 0.5}; total time=   0.7s\n",
      "[CV] END classifier__estimator__C=0.1, preprocess__kw_args={'confidence': 0.7, 'correlation_limit': 0.5}; total time=   0.7s\n",
      "[CV] END classifier__estimator__C=0.1, preprocess__kw_args={'confidence': 0.7, 'correlation_limit': 0.7}; total time=   0.7s\n",
      "[CV] END classifier__estimator__C=0.1, preprocess__kw_args={'confidence': 0.7, 'correlation_limit': 0.7}; total time=   0.7s\n",
      "[CV] END classifier__estimator__C=0.1, preprocess__kw_args={'confidence': 0.7, 'correlation_limit': 0.7}; total time=   0.7s\n",
      "[CV] END classifier__estimator__C=0.1, preprocess__kw_args={'confidence': 0.7, 'correlation_limit': 0.7}; total time=   0.7s\n",
      "[CV] END classifier__estimator__C=0.1, preprocess__kw_args={'confidence': 0.7, 'correlation_limit': 0.7}; total time=   0.7s\n",
      "[CV] END classifier__estimator__C=0.1, preprocess__kw_args={'confidence': 0.7, 'correlation_limit': 0.9}; total time=   0.8s\n",
      "[CV] END classifier__estimator__C=0.1, preprocess__kw_args={'confidence': 0.7, 'correlation_limit': 0.9}; total time=   0.8s\n",
      "[CV] END classifier__estimator__C=0.1, preprocess__kw_args={'confidence': 0.7, 'correlation_limit': 0.9}; total time=   0.7s\n",
      "[CV] END classifier__estimator__C=0.1, preprocess__kw_args={'confidence': 0.7, 'correlation_limit': 0.9}; total time=   0.7s\n",
      "[CV] END classifier__estimator__C=0.1, preprocess__kw_args={'confidence': 0.7, 'correlation_limit': 0.9}; total time=   0.7s\n",
      "[CV] END classifier__estimator__C=0.1, preprocess__kw_args={'confidence': 0.9, 'correlation_limit': 0.5}; total time=   0.7s\n",
      "[CV] END classifier__estimator__C=0.1, preprocess__kw_args={'confidence': 0.9, 'correlation_limit': 0.5}; total time=   0.7s\n",
      "[CV] END classifier__estimator__C=0.1, preprocess__kw_args={'confidence': 0.9, 'correlation_limit': 0.5}; total time=   0.7s\n",
      "[CV] END classifier__estimator__C=0.1, preprocess__kw_args={'confidence': 0.9, 'correlation_limit': 0.5}; total time=   0.7s\n",
      "[CV] END classifier__estimator__C=0.1, preprocess__kw_args={'confidence': 0.9, 'correlation_limit': 0.5}; total time=   0.7s\n",
      "[CV] END classifier__estimator__C=0.1, preprocess__kw_args={'confidence': 0.9, 'correlation_limit': 0.7}; total time=   0.7s\n",
      "[CV] END classifier__estimator__C=0.1, preprocess__kw_args={'confidence': 0.9, 'correlation_limit': 0.7}; total time=   0.7s\n",
      "[CV] END classifier__estimator__C=0.1, preprocess__kw_args={'confidence': 0.9, 'correlation_limit': 0.7}; total time=   0.7s\n",
      "[CV] END classifier__estimator__C=0.1, preprocess__kw_args={'confidence': 0.9, 'correlation_limit': 0.7}; total time=   0.7s\n",
      "[CV] END classifier__estimator__C=0.1, preprocess__kw_args={'confidence': 0.9, 'correlation_limit': 0.7}; total time=   0.7s\n",
      "[CV] END classifier__estimator__C=0.1, preprocess__kw_args={'confidence': 0.9, 'correlation_limit': 0.9}; total time=   0.7s\n",
      "[CV] END classifier__estimator__C=0.1, preprocess__kw_args={'confidence': 0.9, 'correlation_limit': 0.9}; total time=   0.8s\n",
      "[CV] END classifier__estimator__C=0.1, preprocess__kw_args={'confidence': 0.9, 'correlation_limit': 0.9}; total time=   0.7s\n",
      "[CV] END classifier__estimator__C=0.1, preprocess__kw_args={'confidence': 0.9, 'correlation_limit': 0.9}; total time=   0.7s\n",
      "[CV] END classifier__estimator__C=0.1, preprocess__kw_args={'confidence': 0.9, 'correlation_limit': 0.9}; total time=   0.7s\n",
      "Best hyperparameters: {'classifier__estimator__C': 1, 'preprocess__kw_args': {'confidence': 0.5, 'correlation_limit': 0.9}}\n",
      "Best score: 0.9536340852130326\n"
     ]
    }
   ],
   "source": [
    "param_grid = {\n",
    "    'classifier__estimator__C': [1,0.1],\n",
    "    'preprocess__kw_args': [\n",
    "        {\n",
    "            'confidence':  0.5,\n",
    "            'correlation_limit': 0.5\n",
    "        },\n",
    "        {\n",
    "            'confidence':  0.5,\n",
    "            'correlation_limit': 0.7\n",
    "        },\n",
    "        {\n",
    "            'confidence':  0.5,\n",
    "            'correlation_limit': 0.9\n",
    "        },\n",
    "        {\n",
    "            'confidence':  0.7,\n",
    "            'correlation_limit': 0.5\n",
    "        },\n",
    "        {\n",
    "            'confidence':  0.7,\n",
    "            'correlation_limit': 0.7\n",
    "        },\n",
    "        {\n",
    "            'confidence':  0.7,\n",
    "            'correlation_limit': 0.9\n",
    "        },\n",
    "        {\n",
    "            'confidence':  0.9,\n",
    "            'correlation_limit': 0.5\n",
    "        },\n",
    "        {\n",
    "            'confidence':  0.9,\n",
    "            'correlation_limit': 0.7\n",
    "        },\n",
    "        {\n",
    "            'confidence':  0.9,\n",
    "            'correlation_limit': 0.9\n",
    "        },\n",
    "    ]\n",
    "}\n",
    "\n",
    "# Perform a grid search with 5-fold cross-validation\n",
    "grid_search = GridSearchCV(pipeline, param_grid, cv=5, verbose=2)\n",
    "grid_search.fit(X_train, y_train)\n",
    "\n",
    "# Print the best hyperparameters and the corresponding mean score\n",
    "print(\"Best hyperparameters:\", grid_search.best_params_)\n",
    "print(\"Best score:\", grid_search.best_score_)"
   ]
  },
  {
   "cell_type": "code",
   "execution_count": 33,
   "id": "4248b1b4-231a-4d44-8e09-1192fd4209b2",
   "metadata": {},
   "outputs": [
    {
     "data": {
      "text/html": [
       "<style>#sk-container-id-2 {color: black;background-color: white;}#sk-container-id-2 pre{padding: 0;}#sk-container-id-2 div.sk-toggleable {background-color: white;}#sk-container-id-2 label.sk-toggleable__label {cursor: pointer;display: block;width: 100%;margin-bottom: 0;padding: 0.3em;box-sizing: border-box;text-align: center;}#sk-container-id-2 label.sk-toggleable__label-arrow:before {content: \"▸\";float: left;margin-right: 0.25em;color: #696969;}#sk-container-id-2 label.sk-toggleable__label-arrow:hover:before {color: black;}#sk-container-id-2 div.sk-estimator:hover label.sk-toggleable__label-arrow:before {color: black;}#sk-container-id-2 div.sk-toggleable__content {max-height: 0;max-width: 0;overflow: hidden;text-align: left;background-color: #f0f8ff;}#sk-container-id-2 div.sk-toggleable__content pre {margin: 0.2em;color: black;border-radius: 0.25em;background-color: #f0f8ff;}#sk-container-id-2 input.sk-toggleable__control:checked~div.sk-toggleable__content {max-height: 200px;max-width: 100%;overflow: auto;}#sk-container-id-2 input.sk-toggleable__control:checked~label.sk-toggleable__label-arrow:before {content: \"▾\";}#sk-container-id-2 div.sk-estimator input.sk-toggleable__control:checked~label.sk-toggleable__label {background-color: #d4ebff;}#sk-container-id-2 div.sk-label input.sk-toggleable__control:checked~label.sk-toggleable__label {background-color: #d4ebff;}#sk-container-id-2 input.sk-hidden--visually {border: 0;clip: rect(1px 1px 1px 1px);clip: rect(1px, 1px, 1px, 1px);height: 1px;margin: -1px;overflow: hidden;padding: 0;position: absolute;width: 1px;}#sk-container-id-2 div.sk-estimator {font-family: monospace;background-color: #f0f8ff;border: 1px dotted black;border-radius: 0.25em;box-sizing: border-box;margin-bottom: 0.5em;}#sk-container-id-2 div.sk-estimator:hover {background-color: #d4ebff;}#sk-container-id-2 div.sk-parallel-item::after {content: \"\";width: 100%;border-bottom: 1px solid gray;flex-grow: 1;}#sk-container-id-2 div.sk-label:hover label.sk-toggleable__label {background-color: #d4ebff;}#sk-container-id-2 div.sk-serial::before {content: \"\";position: absolute;border-left: 1px solid gray;box-sizing: border-box;top: 0;bottom: 0;left: 50%;z-index: 0;}#sk-container-id-2 div.sk-serial {display: flex;flex-direction: column;align-items: center;background-color: white;padding-right: 0.2em;padding-left: 0.2em;position: relative;}#sk-container-id-2 div.sk-item {position: relative;z-index: 1;}#sk-container-id-2 div.sk-parallel {display: flex;align-items: stretch;justify-content: center;background-color: white;position: relative;}#sk-container-id-2 div.sk-item::before, #sk-container-id-2 div.sk-parallel-item::before {content: \"\";position: absolute;border-left: 1px solid gray;box-sizing: border-box;top: 0;bottom: 0;left: 50%;z-index: -1;}#sk-container-id-2 div.sk-parallel-item {display: flex;flex-direction: column;z-index: 1;position: relative;background-color: white;}#sk-container-id-2 div.sk-parallel-item:first-child::after {align-self: flex-end;width: 50%;}#sk-container-id-2 div.sk-parallel-item:last-child::after {align-self: flex-start;width: 50%;}#sk-container-id-2 div.sk-parallel-item:only-child::after {width: 0;}#sk-container-id-2 div.sk-dashed-wrapped {border: 1px dashed gray;margin: 0 0.4em 0.5em 0.4em;box-sizing: border-box;padding-bottom: 0.4em;background-color: white;}#sk-container-id-2 div.sk-label label {font-family: monospace;font-weight: bold;display: inline-block;line-height: 1.2em;}#sk-container-id-2 div.sk-label-container {text-align: center;}#sk-container-id-2 div.sk-container {/* jupyter's `normalize.less` sets `[hidden] { display: none; }` but bootstrap.min.css set `[hidden] { display: none !important; }` so we also need the `!important` here to be able to override the default hidden behavior on the sphinx rendered scikit-learn.org. See: https://github.com/scikit-learn/scikit-learn/issues/21755 */display: inline-block !important;position: relative;}#sk-container-id-2 div.sk-text-repr-fallback {display: none;}</style><div id=\"sk-container-id-2\" class=\"sk-top-container\"><div class=\"sk-text-repr-fallback\"><pre>Pipeline(steps=[(&#x27;preprocess&#x27;,\n",
       "                 FunctionTransformer(func=&lt;function preprocess at 0x137ee03a0&gt;,\n",
       "                                     kw_args={&#x27;confidence&#x27;: 0.7,\n",
       "                                              &#x27;correlation_limit&#x27;: 0.9})),\n",
       "                (&#x27;oversampler&#x27;, RandomOverSampler()),\n",
       "                (&#x27;classifier&#x27;,\n",
       "                 OneVsRestClassifier(estimator=LogisticRegression(penalty=&#x27;l1&#x27;,\n",
       "                                                                  random_state=42,\n",
       "                                                                  solver=&#x27;liblinear&#x27;)))])</pre><b>In a Jupyter environment, please rerun this cell to show the HTML representation or trust the notebook. <br />On GitHub, the HTML representation is unable to render, please try loading this page with nbviewer.org.</b></div><div class=\"sk-container\" hidden><div class=\"sk-item sk-dashed-wrapped\"><div class=\"sk-label-container\"><div class=\"sk-label sk-toggleable\"><input class=\"sk-toggleable__control sk-hidden--visually\" id=\"sk-estimator-id-7\" type=\"checkbox\" ><label for=\"sk-estimator-id-7\" class=\"sk-toggleable__label sk-toggleable__label-arrow\">Pipeline</label><div class=\"sk-toggleable__content\"><pre>Pipeline(steps=[(&#x27;preprocess&#x27;,\n",
       "                 FunctionTransformer(func=&lt;function preprocess at 0x137ee03a0&gt;,\n",
       "                                     kw_args={&#x27;confidence&#x27;: 0.7,\n",
       "                                              &#x27;correlation_limit&#x27;: 0.9})),\n",
       "                (&#x27;oversampler&#x27;, RandomOverSampler()),\n",
       "                (&#x27;classifier&#x27;,\n",
       "                 OneVsRestClassifier(estimator=LogisticRegression(penalty=&#x27;l1&#x27;,\n",
       "                                                                  random_state=42,\n",
       "                                                                  solver=&#x27;liblinear&#x27;)))])</pre></div></div></div><div class=\"sk-serial\"><div class=\"sk-item\"><div class=\"sk-estimator sk-toggleable\"><input class=\"sk-toggleable__control sk-hidden--visually\" id=\"sk-estimator-id-8\" type=\"checkbox\" ><label for=\"sk-estimator-id-8\" class=\"sk-toggleable__label sk-toggleable__label-arrow\">FunctionTransformer</label><div class=\"sk-toggleable__content\"><pre>FunctionTransformer(func=&lt;function preprocess at 0x137ee03a0&gt;,\n",
       "                    kw_args={&#x27;confidence&#x27;: 0.7, &#x27;correlation_limit&#x27;: 0.9})</pre></div></div></div><div class=\"sk-item\"><div class=\"sk-estimator sk-toggleable\"><input class=\"sk-toggleable__control sk-hidden--visually\" id=\"sk-estimator-id-9\" type=\"checkbox\" ><label for=\"sk-estimator-id-9\" class=\"sk-toggleable__label sk-toggleable__label-arrow\">RandomOverSampler</label><div class=\"sk-toggleable__content\"><pre>RandomOverSampler()</pre></div></div></div><div class=\"sk-item sk-dashed-wrapped\"><div class=\"sk-label-container\"><div class=\"sk-label sk-toggleable\"><input class=\"sk-toggleable__control sk-hidden--visually\" id=\"sk-estimator-id-10\" type=\"checkbox\" ><label for=\"sk-estimator-id-10\" class=\"sk-toggleable__label sk-toggleable__label-arrow\">classifier: OneVsRestClassifier</label><div class=\"sk-toggleable__content\"><pre>OneVsRestClassifier(estimator=LogisticRegression(penalty=&#x27;l1&#x27;, random_state=42,\n",
       "                                                 solver=&#x27;liblinear&#x27;))</pre></div></div></div><div class=\"sk-parallel\"><div class=\"sk-parallel-item\"><div class=\"sk-item\"><div class=\"sk-label-container\"><div class=\"sk-label sk-toggleable\"><input class=\"sk-toggleable__control sk-hidden--visually\" id=\"sk-estimator-id-11\" type=\"checkbox\" ><label for=\"sk-estimator-id-11\" class=\"sk-toggleable__label sk-toggleable__label-arrow\">estimator: LogisticRegression</label><div class=\"sk-toggleable__content\"><pre>LogisticRegression(penalty=&#x27;l1&#x27;, random_state=42, solver=&#x27;liblinear&#x27;)</pre></div></div></div><div class=\"sk-serial\"><div class=\"sk-item\"><div class=\"sk-estimator sk-toggleable\"><input class=\"sk-toggleable__control sk-hidden--visually\" id=\"sk-estimator-id-12\" type=\"checkbox\" ><label for=\"sk-estimator-id-12\" class=\"sk-toggleable__label sk-toggleable__label-arrow\">LogisticRegression</label><div class=\"sk-toggleable__content\"><pre>LogisticRegression(penalty=&#x27;l1&#x27;, random_state=42, solver=&#x27;liblinear&#x27;)</pre></div></div></div></div></div></div></div></div></div></div></div></div>"
      ],
      "text/plain": [
       "Pipeline(steps=[('preprocess',\n",
       "                 FunctionTransformer(func=<function preprocess at 0x137ee03a0>,\n",
       "                                     kw_args={'confidence': 0.7,\n",
       "                                              'correlation_limit': 0.9})),\n",
       "                ('oversampler', RandomOverSampler()),\n",
       "                ('classifier',\n",
       "                 OneVsRestClassifier(estimator=LogisticRegression(penalty='l1',\n",
       "                                                                  random_state=42,\n",
       "                                                                  solver='liblinear')))])"
      ]
     },
     "execution_count": 33,
     "metadata": {},
     "output_type": "execute_result"
    }
   ],
   "source": [
    "pipeline = Pipeline([\n",
    "    ('preprocess', FunctionTransformer(preprocess, kw_args={'confidence': 0.7, 'correlation_limit': 0.9})),\n",
    "    ('oversampler', RandomOverSampler()),\n",
    "    ('classifier', OneVsRestClassifier(LogisticRegression(penalty='l1',\n",
    "                                                          random_state=42,\n",
    "                                                          solver ='liblinear')))\n",
    "])\n",
    "\n",
    "\n",
    "pipeline.fit(X_train, y_train)\n"
   ]
  },
  {
   "cell_type": "code",
   "execution_count": 34,
   "id": "0073aefa-9bfd-4b29-8c77-32ebcf22f2aa",
   "metadata": {},
   "outputs": [
    {
     "data": {
      "text/plain": [
       "0.96875"
      ]
     },
     "execution_count": 34,
     "metadata": {},
     "output_type": "execute_result"
    }
   ],
   "source": [
    "pipeline.score(X_test, y_test)"
   ]
  },
  {
   "cell_type": "markdown",
   "id": "18bdf020-8728-43ee-a826-2446682e2655",
   "metadata": {},
   "source": [
    "### error analysis"
   ]
  },
  {
   "cell_type": "code",
   "execution_count": 35,
   "id": "7e72861e-a0c0-4b6f-8646-3a4e109d76ed",
   "metadata": {},
   "outputs": [
    {
     "data": {
      "text/plain": [
       "234    data/skiing-holiday/Image_46.jpg.json\n",
       "Name: filename, dtype: object"
      ]
     },
     "execution_count": 35,
     "metadata": {},
     "output_type": "execute_result"
    }
   ],
   "source": [
    "preds = pipeline.predict(X_test)\n",
    "X_test.filename[preds != y_test]"
   ]
  },
  {
   "cell_type": "markdown",
   "id": "e878fac3-f1a0-4043-b57a-0758610ad92b",
   "metadata": {},
   "source": [
    "When we look into the json file of this, we see that there are no labels related to obvious skiing activities, hence why the model is unable to pick up a signal"
   ]
  },
  {
   "cell_type": "markdown",
   "id": "e3da28fe-2ae5-4e29-9d15-e685c9421625",
   "metadata": {},
   "source": [
    "### Pipeline refinement"
   ]
  },
  {
   "cell_type": "code",
   "execution_count": 36,
   "id": "6c69d2f6-0b8c-41e5-bf86-144d5f5f8bd8",
   "metadata": {},
   "outputs": [],
   "source": [
    "clf = pipeline.steps[-1][1]"
   ]
  },
  {
   "cell_type": "code",
   "execution_count": 37,
   "id": "c15d4987-f914-4d9e-a485-79a43ee6c650",
   "metadata": {},
   "outputs": [],
   "source": [
    "features = clf.feature_names_in_[\n",
    "    ((np.abs(clf.estimators_[0].coef_) > 0) |\\\n",
    "    (np.abs(clf.estimators_[1].coef_) > 0) |\\\n",
    "    (np.abs(clf.estimators_[2].coef_) > 0) |\\\n",
    "    (np.abs(clf.estimators_[3].coef_) > 0))[0]\n",
    "]"
   ]
  },
  {
   "cell_type": "code",
   "execution_count": 38,
   "id": "55fa12e7-9208-468d-a13f-9477cf93a3bd",
   "metadata": {},
   "outputs": [
    {
     "data": {
      "text/plain": [
       "array(['accessories', 'apparel', 'art', 'beverage', 'birthday party',\n",
       "       'boat', 'bread', 'cable car', 'cake', 'canine', 'cap', 'child',\n",
       "       'coat', 'couch', 'crowd', 'dating', 'denim', 'eating', 'exercise',\n",
       "       'face', 'family', 'female', 'finger', 'food', 'footwear',\n",
       "       'furniture', 'hat', 'head', 'helmet', 'human', 'ikebana',\n",
       "       'indoors', 'kite', 'leisure activities', 'long sleeve', 'mountain',\n",
       "       'ocean', 'outdoors', 'pants', 'party hat', 'people', 'photo',\n",
       "       'plant', 'shorts', 'skin', 'sleeve', 'slope', 'snow', 'sport',\n",
       "       'sunglasses', 'swimwear', 'thumbs up', 'transportation',\n",
       "       'vacation', 'water', 'woman'], dtype=object)"
      ]
     },
     "execution_count": 38,
     "metadata": {},
     "output_type": "execute_result"
    }
   ],
   "source": [
    "features"
   ]
  },
  {
   "cell_type": "markdown",
   "id": "58014446-e524-413e-9606-1619b6aac414",
   "metadata": {},
   "source": [
    "The above features are those that have non-0 coefficients in at least 1 of the sub models and are necessary in the overall model.\n",
    "\n",
    "We can refine the whiole pipeline to use just these features if LR is selected"
   ]
  },
  {
   "cell_type": "markdown",
   "id": "f744224b-4c08-43be-a311-71cb8fa2086b",
   "metadata": {},
   "source": [
    "# RF"
   ]
  },
  {
   "cell_type": "code",
   "execution_count": 39,
   "id": "e75f1579-6aa2-42d8-b668-eb51ce30fc84",
   "metadata": {
    "collapsed": true,
    "jupyter": {
     "outputs_hidden": true
    },
    "tags": []
   },
   "outputs": [
    {
     "name": "stdout",
     "output_type": "stream",
     "text": [
      "Fitting 5 folds for each of 54 candidates, totalling 270 fits\n",
      "[CV] END classifier__max_depth=3, classifier__max_features=sqrt, classifier__max_leaf_nodes=3, classifier__n_estimators=50; total time=   0.8s\n",
      "[CV] END classifier__max_depth=3, classifier__max_features=sqrt, classifier__max_leaf_nodes=3, classifier__n_estimators=50; total time=   0.7s\n",
      "[CV] END classifier__max_depth=3, classifier__max_features=sqrt, classifier__max_leaf_nodes=3, classifier__n_estimators=50; total time=   0.7s\n",
      "[CV] END classifier__max_depth=3, classifier__max_features=sqrt, classifier__max_leaf_nodes=3, classifier__n_estimators=50; total time=   0.7s\n",
      "[CV] END classifier__max_depth=3, classifier__max_features=sqrt, classifier__max_leaf_nodes=3, classifier__n_estimators=50; total time=   0.8s\n",
      "[CV] END classifier__max_depth=3, classifier__max_features=sqrt, classifier__max_leaf_nodes=3, classifier__n_estimators=100; total time=   0.8s\n",
      "[CV] END classifier__max_depth=3, classifier__max_features=sqrt, classifier__max_leaf_nodes=3, classifier__n_estimators=100; total time=   0.8s\n",
      "[CV] END classifier__max_depth=3, classifier__max_features=sqrt, classifier__max_leaf_nodes=3, classifier__n_estimators=100; total time=   0.8s\n",
      "[CV] END classifier__max_depth=3, classifier__max_features=sqrt, classifier__max_leaf_nodes=3, classifier__n_estimators=100; total time=   0.8s\n",
      "[CV] END classifier__max_depth=3, classifier__max_features=sqrt, classifier__max_leaf_nodes=3, classifier__n_estimators=100; total time=   0.8s\n",
      "[CV] END classifier__max_depth=3, classifier__max_features=sqrt, classifier__max_leaf_nodes=3, classifier__n_estimators=200; total time=   0.8s\n",
      "[CV] END classifier__max_depth=3, classifier__max_features=sqrt, classifier__max_leaf_nodes=3, classifier__n_estimators=200; total time=   0.8s\n",
      "[CV] END classifier__max_depth=3, classifier__max_features=sqrt, classifier__max_leaf_nodes=3, classifier__n_estimators=200; total time=   0.8s\n",
      "[CV] END classifier__max_depth=3, classifier__max_features=sqrt, classifier__max_leaf_nodes=3, classifier__n_estimators=200; total time=   0.8s\n",
      "[CV] END classifier__max_depth=3, classifier__max_features=sqrt, classifier__max_leaf_nodes=3, classifier__n_estimators=200; total time=   0.8s\n",
      "[CV] END classifier__max_depth=3, classifier__max_features=sqrt, classifier__max_leaf_nodes=6, classifier__n_estimators=50; total time=   0.8s\n",
      "[CV] END classifier__max_depth=3, classifier__max_features=sqrt, classifier__max_leaf_nodes=6, classifier__n_estimators=50; total time=   0.7s\n",
      "[CV] END classifier__max_depth=3, classifier__max_features=sqrt, classifier__max_leaf_nodes=6, classifier__n_estimators=50; total time=   0.8s\n",
      "[CV] END classifier__max_depth=3, classifier__max_features=sqrt, classifier__max_leaf_nodes=6, classifier__n_estimators=50; total time=   0.7s\n",
      "[CV] END classifier__max_depth=3, classifier__max_features=sqrt, classifier__max_leaf_nodes=6, classifier__n_estimators=50; total time=   0.7s\n",
      "[CV] END classifier__max_depth=3, classifier__max_features=sqrt, classifier__max_leaf_nodes=6, classifier__n_estimators=100; total time=   0.8s\n",
      "[CV] END classifier__max_depth=3, classifier__max_features=sqrt, classifier__max_leaf_nodes=6, classifier__n_estimators=100; total time=   0.8s\n",
      "[CV] END classifier__max_depth=3, classifier__max_features=sqrt, classifier__max_leaf_nodes=6, classifier__n_estimators=100; total time=   0.8s\n",
      "[CV] END classifier__max_depth=3, classifier__max_features=sqrt, classifier__max_leaf_nodes=6, classifier__n_estimators=100; total time=   0.8s\n",
      "[CV] END classifier__max_depth=3, classifier__max_features=sqrt, classifier__max_leaf_nodes=6, classifier__n_estimators=100; total time=   0.8s\n",
      "[CV] END classifier__max_depth=3, classifier__max_features=sqrt, classifier__max_leaf_nodes=6, classifier__n_estimators=200; total time=   0.8s\n",
      "[CV] END classifier__max_depth=3, classifier__max_features=sqrt, classifier__max_leaf_nodes=6, classifier__n_estimators=200; total time=   0.8s\n",
      "[CV] END classifier__max_depth=3, classifier__max_features=sqrt, classifier__max_leaf_nodes=6, classifier__n_estimators=200; total time=   1.0s\n",
      "[CV] END classifier__max_depth=3, classifier__max_features=sqrt, classifier__max_leaf_nodes=6, classifier__n_estimators=200; total time=   0.8s\n",
      "[CV] END classifier__max_depth=3, classifier__max_features=sqrt, classifier__max_leaf_nodes=6, classifier__n_estimators=200; total time=   0.8s\n",
      "[CV] END classifier__max_depth=3, classifier__max_features=sqrt, classifier__max_leaf_nodes=9, classifier__n_estimators=50; total time=   0.8s\n",
      "[CV] END classifier__max_depth=3, classifier__max_features=sqrt, classifier__max_leaf_nodes=9, classifier__n_estimators=50; total time=   0.8s\n",
      "[CV] END classifier__max_depth=3, classifier__max_features=sqrt, classifier__max_leaf_nodes=9, classifier__n_estimators=50; total time=   0.7s\n",
      "[CV] END classifier__max_depth=3, classifier__max_features=sqrt, classifier__max_leaf_nodes=9, classifier__n_estimators=50; total time=   0.8s\n",
      "[CV] END classifier__max_depth=3, classifier__max_features=sqrt, classifier__max_leaf_nodes=9, classifier__n_estimators=50; total time=   0.7s\n",
      "[CV] END classifier__max_depth=3, classifier__max_features=sqrt, classifier__max_leaf_nodes=9, classifier__n_estimators=100; total time=   0.8s\n",
      "[CV] END classifier__max_depth=3, classifier__max_features=sqrt, classifier__max_leaf_nodes=9, classifier__n_estimators=100; total time=   0.8s\n",
      "[CV] END classifier__max_depth=3, classifier__max_features=sqrt, classifier__max_leaf_nodes=9, classifier__n_estimators=100; total time=   0.8s\n",
      "[CV] END classifier__max_depth=3, classifier__max_features=sqrt, classifier__max_leaf_nodes=9, classifier__n_estimators=100; total time=   0.8s\n",
      "[CV] END classifier__max_depth=3, classifier__max_features=sqrt, classifier__max_leaf_nodes=9, classifier__n_estimators=100; total time=   0.8s\n",
      "[CV] END classifier__max_depth=3, classifier__max_features=sqrt, classifier__max_leaf_nodes=9, classifier__n_estimators=200; total time=   0.8s\n",
      "[CV] END classifier__max_depth=3, classifier__max_features=sqrt, classifier__max_leaf_nodes=9, classifier__n_estimators=200; total time=   0.8s\n",
      "[CV] END classifier__max_depth=3, classifier__max_features=sqrt, classifier__max_leaf_nodes=9, classifier__n_estimators=200; total time=   0.8s\n",
      "[CV] END classifier__max_depth=3, classifier__max_features=sqrt, classifier__max_leaf_nodes=9, classifier__n_estimators=200; total time=   0.9s\n",
      "[CV] END classifier__max_depth=3, classifier__max_features=sqrt, classifier__max_leaf_nodes=9, classifier__n_estimators=200; total time=   0.8s\n",
      "[CV] END classifier__max_depth=3, classifier__max_features=log2, classifier__max_leaf_nodes=3, classifier__n_estimators=50; total time=   0.8s\n",
      "[CV] END classifier__max_depth=3, classifier__max_features=log2, classifier__max_leaf_nodes=3, classifier__n_estimators=50; total time=   0.7s\n",
      "[CV] END classifier__max_depth=3, classifier__max_features=log2, classifier__max_leaf_nodes=3, classifier__n_estimators=50; total time=   0.8s\n",
      "[CV] END classifier__max_depth=3, classifier__max_features=log2, classifier__max_leaf_nodes=3, classifier__n_estimators=50; total time=   0.8s\n",
      "[CV] END classifier__max_depth=3, classifier__max_features=log2, classifier__max_leaf_nodes=3, classifier__n_estimators=50; total time=   0.7s\n",
      "[CV] END classifier__max_depth=3, classifier__max_features=log2, classifier__max_leaf_nodes=3, classifier__n_estimators=100; total time=   0.8s\n",
      "[CV] END classifier__max_depth=3, classifier__max_features=log2, classifier__max_leaf_nodes=3, classifier__n_estimators=100; total time=   0.8s\n",
      "[CV] END classifier__max_depth=3, classifier__max_features=log2, classifier__max_leaf_nodes=3, classifier__n_estimators=100; total time=   0.8s\n",
      "[CV] END classifier__max_depth=3, classifier__max_features=log2, classifier__max_leaf_nodes=3, classifier__n_estimators=100; total time=   0.8s\n",
      "[CV] END classifier__max_depth=3, classifier__max_features=log2, classifier__max_leaf_nodes=3, classifier__n_estimators=100; total time=   0.8s\n",
      "[CV] END classifier__max_depth=3, classifier__max_features=log2, classifier__max_leaf_nodes=3, classifier__n_estimators=200; total time=   0.9s\n",
      "[CV] END classifier__max_depth=3, classifier__max_features=log2, classifier__max_leaf_nodes=3, classifier__n_estimators=200; total time=   0.8s\n",
      "[CV] END classifier__max_depth=3, classifier__max_features=log2, classifier__max_leaf_nodes=3, classifier__n_estimators=200; total time=   0.8s\n",
      "[CV] END classifier__max_depth=3, classifier__max_features=log2, classifier__max_leaf_nodes=3, classifier__n_estimators=200; total time=   0.8s\n",
      "[CV] END classifier__max_depth=3, classifier__max_features=log2, classifier__max_leaf_nodes=3, classifier__n_estimators=200; total time=   0.8s\n",
      "[CV] END classifier__max_depth=3, classifier__max_features=log2, classifier__max_leaf_nodes=6, classifier__n_estimators=50; total time=   0.7s\n",
      "[CV] END classifier__max_depth=3, classifier__max_features=log2, classifier__max_leaf_nodes=6, classifier__n_estimators=50; total time=   0.8s\n",
      "[CV] END classifier__max_depth=3, classifier__max_features=log2, classifier__max_leaf_nodes=6, classifier__n_estimators=50; total time=   0.8s\n",
      "[CV] END classifier__max_depth=3, classifier__max_features=log2, classifier__max_leaf_nodes=6, classifier__n_estimators=50; total time=   0.8s\n",
      "[CV] END classifier__max_depth=3, classifier__max_features=log2, classifier__max_leaf_nodes=6, classifier__n_estimators=50; total time=   0.8s\n",
      "[CV] END classifier__max_depth=3, classifier__max_features=log2, classifier__max_leaf_nodes=6, classifier__n_estimators=100; total time=   0.8s\n",
      "[CV] END classifier__max_depth=3, classifier__max_features=log2, classifier__max_leaf_nodes=6, classifier__n_estimators=100; total time=   0.8s\n",
      "[CV] END classifier__max_depth=3, classifier__max_features=log2, classifier__max_leaf_nodes=6, classifier__n_estimators=100; total time=   0.8s\n",
      "[CV] END classifier__max_depth=3, classifier__max_features=log2, classifier__max_leaf_nodes=6, classifier__n_estimators=100; total time=   0.8s\n",
      "[CV] END classifier__max_depth=3, classifier__max_features=log2, classifier__max_leaf_nodes=6, classifier__n_estimators=100; total time=   0.8s\n",
      "[CV] END classifier__max_depth=3, classifier__max_features=log2, classifier__max_leaf_nodes=6, classifier__n_estimators=200; total time=   0.8s\n",
      "[CV] END classifier__max_depth=3, classifier__max_features=log2, classifier__max_leaf_nodes=6, classifier__n_estimators=200; total time=   0.8s\n",
      "[CV] END classifier__max_depth=3, classifier__max_features=log2, classifier__max_leaf_nodes=6, classifier__n_estimators=200; total time=   0.8s\n",
      "[CV] END classifier__max_depth=3, classifier__max_features=log2, classifier__max_leaf_nodes=6, classifier__n_estimators=200; total time=   0.8s\n",
      "[CV] END classifier__max_depth=3, classifier__max_features=log2, classifier__max_leaf_nodes=6, classifier__n_estimators=200; total time=   0.8s\n",
      "[CV] END classifier__max_depth=3, classifier__max_features=log2, classifier__max_leaf_nodes=9, classifier__n_estimators=50; total time=   0.7s\n",
      "[CV] END classifier__max_depth=3, classifier__max_features=log2, classifier__max_leaf_nodes=9, classifier__n_estimators=50; total time=   0.7s\n",
      "[CV] END classifier__max_depth=3, classifier__max_features=log2, classifier__max_leaf_nodes=9, classifier__n_estimators=50; total time=   0.7s\n",
      "[CV] END classifier__max_depth=3, classifier__max_features=log2, classifier__max_leaf_nodes=9, classifier__n_estimators=50; total time=   0.7s\n",
      "[CV] END classifier__max_depth=3, classifier__max_features=log2, classifier__max_leaf_nodes=9, classifier__n_estimators=50; total time=   0.7s\n",
      "[CV] END classifier__max_depth=3, classifier__max_features=log2, classifier__max_leaf_nodes=9, classifier__n_estimators=100; total time=   0.8s\n",
      "[CV] END classifier__max_depth=3, classifier__max_features=log2, classifier__max_leaf_nodes=9, classifier__n_estimators=100; total time=   0.8s\n",
      "[CV] END classifier__max_depth=3, classifier__max_features=log2, classifier__max_leaf_nodes=9, classifier__n_estimators=100; total time=   0.8s\n",
      "[CV] END classifier__max_depth=3, classifier__max_features=log2, classifier__max_leaf_nodes=9, classifier__n_estimators=100; total time=   0.8s\n",
      "[CV] END classifier__max_depth=3, classifier__max_features=log2, classifier__max_leaf_nodes=9, classifier__n_estimators=100; total time=   0.8s\n",
      "[CV] END classifier__max_depth=3, classifier__max_features=log2, classifier__max_leaf_nodes=9, classifier__n_estimators=200; total time=   0.8s\n",
      "[CV] END classifier__max_depth=3, classifier__max_features=log2, classifier__max_leaf_nodes=9, classifier__n_estimators=200; total time=   0.8s\n",
      "[CV] END classifier__max_depth=3, classifier__max_features=log2, classifier__max_leaf_nodes=9, classifier__n_estimators=200; total time=   0.8s\n",
      "[CV] END classifier__max_depth=3, classifier__max_features=log2, classifier__max_leaf_nodes=9, classifier__n_estimators=200; total time=   0.8s\n",
      "[CV] END classifier__max_depth=3, classifier__max_features=log2, classifier__max_leaf_nodes=9, classifier__n_estimators=200; total time=   0.8s\n",
      "[CV] END classifier__max_depth=6, classifier__max_features=sqrt, classifier__max_leaf_nodes=3, classifier__n_estimators=50; total time=   0.7s\n",
      "[CV] END classifier__max_depth=6, classifier__max_features=sqrt, classifier__max_leaf_nodes=3, classifier__n_estimators=50; total time=   0.7s\n",
      "[CV] END classifier__max_depth=6, classifier__max_features=sqrt, classifier__max_leaf_nodes=3, classifier__n_estimators=50; total time=   0.8s\n",
      "[CV] END classifier__max_depth=6, classifier__max_features=sqrt, classifier__max_leaf_nodes=3, classifier__n_estimators=50; total time=   0.7s\n",
      "[CV] END classifier__max_depth=6, classifier__max_features=sqrt, classifier__max_leaf_nodes=3, classifier__n_estimators=50; total time=   0.7s\n",
      "[CV] END classifier__max_depth=6, classifier__max_features=sqrt, classifier__max_leaf_nodes=3, classifier__n_estimators=100; total time=   0.8s\n",
      "[CV] END classifier__max_depth=6, classifier__max_features=sqrt, classifier__max_leaf_nodes=3, classifier__n_estimators=100; total time=   0.8s\n",
      "[CV] END classifier__max_depth=6, classifier__max_features=sqrt, classifier__max_leaf_nodes=3, classifier__n_estimators=100; total time=   0.8s\n",
      "[CV] END classifier__max_depth=6, classifier__max_features=sqrt, classifier__max_leaf_nodes=3, classifier__n_estimators=100; total time=   0.8s\n",
      "[CV] END classifier__max_depth=6, classifier__max_features=sqrt, classifier__max_leaf_nodes=3, classifier__n_estimators=100; total time=   0.8s\n",
      "[CV] END classifier__max_depth=6, classifier__max_features=sqrt, classifier__max_leaf_nodes=3, classifier__n_estimators=200; total time=   0.8s\n",
      "[CV] END classifier__max_depth=6, classifier__max_features=sqrt, classifier__max_leaf_nodes=3, classifier__n_estimators=200; total time=   0.8s\n",
      "[CV] END classifier__max_depth=6, classifier__max_features=sqrt, classifier__max_leaf_nodes=3, classifier__n_estimators=200; total time=   0.8s\n",
      "[CV] END classifier__max_depth=6, classifier__max_features=sqrt, classifier__max_leaf_nodes=3, classifier__n_estimators=200; total time=   0.8s\n",
      "[CV] END classifier__max_depth=6, classifier__max_features=sqrt, classifier__max_leaf_nodes=3, classifier__n_estimators=200; total time=   0.8s\n",
      "[CV] END classifier__max_depth=6, classifier__max_features=sqrt, classifier__max_leaf_nodes=6, classifier__n_estimators=50; total time=   0.8s\n",
      "[CV] END classifier__max_depth=6, classifier__max_features=sqrt, classifier__max_leaf_nodes=6, classifier__n_estimators=50; total time=   0.7s\n",
      "[CV] END classifier__max_depth=6, classifier__max_features=sqrt, classifier__max_leaf_nodes=6, classifier__n_estimators=50; total time=   0.7s\n",
      "[CV] END classifier__max_depth=6, classifier__max_features=sqrt, classifier__max_leaf_nodes=6, classifier__n_estimators=50; total time=   0.7s\n",
      "[CV] END classifier__max_depth=6, classifier__max_features=sqrt, classifier__max_leaf_nodes=6, classifier__n_estimators=50; total time=   0.7s\n",
      "[CV] END classifier__max_depth=6, classifier__max_features=sqrt, classifier__max_leaf_nodes=6, classifier__n_estimators=100; total time=   0.8s\n",
      "[CV] END classifier__max_depth=6, classifier__max_features=sqrt, classifier__max_leaf_nodes=6, classifier__n_estimators=100; total time=   0.8s\n",
      "[CV] END classifier__max_depth=6, classifier__max_features=sqrt, classifier__max_leaf_nodes=6, classifier__n_estimators=100; total time=   0.8s\n",
      "[CV] END classifier__max_depth=6, classifier__max_features=sqrt, classifier__max_leaf_nodes=6, classifier__n_estimators=100; total time=   0.8s\n",
      "[CV] END classifier__max_depth=6, classifier__max_features=sqrt, classifier__max_leaf_nodes=6, classifier__n_estimators=100; total time=   0.8s\n",
      "[CV] END classifier__max_depth=6, classifier__max_features=sqrt, classifier__max_leaf_nodes=6, classifier__n_estimators=200; total time=   0.8s\n",
      "[CV] END classifier__max_depth=6, classifier__max_features=sqrt, classifier__max_leaf_nodes=6, classifier__n_estimators=200; total time=   0.8s\n",
      "[CV] END classifier__max_depth=6, classifier__max_features=sqrt, classifier__max_leaf_nodes=6, classifier__n_estimators=200; total time=   0.9s\n",
      "[CV] END classifier__max_depth=6, classifier__max_features=sqrt, classifier__max_leaf_nodes=6, classifier__n_estimators=200; total time=   0.8s\n",
      "[CV] END classifier__max_depth=6, classifier__max_features=sqrt, classifier__max_leaf_nodes=6, classifier__n_estimators=200; total time=   0.8s\n",
      "[CV] END classifier__max_depth=6, classifier__max_features=sqrt, classifier__max_leaf_nodes=9, classifier__n_estimators=50; total time=   0.7s\n",
      "[CV] END classifier__max_depth=6, classifier__max_features=sqrt, classifier__max_leaf_nodes=9, classifier__n_estimators=50; total time=   0.7s\n",
      "[CV] END classifier__max_depth=6, classifier__max_features=sqrt, classifier__max_leaf_nodes=9, classifier__n_estimators=50; total time=   0.7s\n",
      "[CV] END classifier__max_depth=6, classifier__max_features=sqrt, classifier__max_leaf_nodes=9, classifier__n_estimators=50; total time=   0.7s\n",
      "[CV] END classifier__max_depth=6, classifier__max_features=sqrt, classifier__max_leaf_nodes=9, classifier__n_estimators=50; total time=   0.7s\n",
      "[CV] END classifier__max_depth=6, classifier__max_features=sqrt, classifier__max_leaf_nodes=9, classifier__n_estimators=100; total time=   0.8s\n",
      "[CV] END classifier__max_depth=6, classifier__max_features=sqrt, classifier__max_leaf_nodes=9, classifier__n_estimators=100; total time=   0.8s\n",
      "[CV] END classifier__max_depth=6, classifier__max_features=sqrt, classifier__max_leaf_nodes=9, classifier__n_estimators=100; total time=   0.8s\n",
      "[CV] END classifier__max_depth=6, classifier__max_features=sqrt, classifier__max_leaf_nodes=9, classifier__n_estimators=100; total time=   0.8s\n",
      "[CV] END classifier__max_depth=6, classifier__max_features=sqrt, classifier__max_leaf_nodes=9, classifier__n_estimators=100; total time=   0.8s\n",
      "[CV] END classifier__max_depth=6, classifier__max_features=sqrt, classifier__max_leaf_nodes=9, classifier__n_estimators=200; total time=   0.9s\n",
      "[CV] END classifier__max_depth=6, classifier__max_features=sqrt, classifier__max_leaf_nodes=9, classifier__n_estimators=200; total time=   0.8s\n",
      "[CV] END classifier__max_depth=6, classifier__max_features=sqrt, classifier__max_leaf_nodes=9, classifier__n_estimators=200; total time=   0.8s\n",
      "[CV] END classifier__max_depth=6, classifier__max_features=sqrt, classifier__max_leaf_nodes=9, classifier__n_estimators=200; total time=   0.8s\n",
      "[CV] END classifier__max_depth=6, classifier__max_features=sqrt, classifier__max_leaf_nodes=9, classifier__n_estimators=200; total time=   0.8s\n",
      "[CV] END classifier__max_depth=6, classifier__max_features=log2, classifier__max_leaf_nodes=3, classifier__n_estimators=50; total time=   0.7s\n",
      "[CV] END classifier__max_depth=6, classifier__max_features=log2, classifier__max_leaf_nodes=3, classifier__n_estimators=50; total time=   0.7s\n",
      "[CV] END classifier__max_depth=6, classifier__max_features=log2, classifier__max_leaf_nodes=3, classifier__n_estimators=50; total time=   0.7s\n",
      "[CV] END classifier__max_depth=6, classifier__max_features=log2, classifier__max_leaf_nodes=3, classifier__n_estimators=50; total time=   0.7s\n",
      "[CV] END classifier__max_depth=6, classifier__max_features=log2, classifier__max_leaf_nodes=3, classifier__n_estimators=50; total time=   0.7s\n",
      "[CV] END classifier__max_depth=6, classifier__max_features=log2, classifier__max_leaf_nodes=3, classifier__n_estimators=100; total time=   0.8s\n",
      "[CV] END classifier__max_depth=6, classifier__max_features=log2, classifier__max_leaf_nodes=3, classifier__n_estimators=100; total time=   0.8s\n",
      "[CV] END classifier__max_depth=6, classifier__max_features=log2, classifier__max_leaf_nodes=3, classifier__n_estimators=100; total time=   0.8s\n",
      "[CV] END classifier__max_depth=6, classifier__max_features=log2, classifier__max_leaf_nodes=3, classifier__n_estimators=100; total time=   0.8s\n",
      "[CV] END classifier__max_depth=6, classifier__max_features=log2, classifier__max_leaf_nodes=3, classifier__n_estimators=100; total time=   0.8s\n",
      "[CV] END classifier__max_depth=6, classifier__max_features=log2, classifier__max_leaf_nodes=3, classifier__n_estimators=200; total time=   0.8s\n",
      "[CV] END classifier__max_depth=6, classifier__max_features=log2, classifier__max_leaf_nodes=3, classifier__n_estimators=200; total time=   0.8s\n",
      "[CV] END classifier__max_depth=6, classifier__max_features=log2, classifier__max_leaf_nodes=3, classifier__n_estimators=200; total time=   0.8s\n",
      "[CV] END classifier__max_depth=6, classifier__max_features=log2, classifier__max_leaf_nodes=3, classifier__n_estimators=200; total time=   0.8s\n",
      "[CV] END classifier__max_depth=6, classifier__max_features=log2, classifier__max_leaf_nodes=3, classifier__n_estimators=200; total time=   0.8s\n",
      "[CV] END classifier__max_depth=6, classifier__max_features=log2, classifier__max_leaf_nodes=6, classifier__n_estimators=50; total time=   0.7s\n",
      "[CV] END classifier__max_depth=6, classifier__max_features=log2, classifier__max_leaf_nodes=6, classifier__n_estimators=50; total time=   0.7s\n",
      "[CV] END classifier__max_depth=6, classifier__max_features=log2, classifier__max_leaf_nodes=6, classifier__n_estimators=50; total time=   0.7s\n",
      "[CV] END classifier__max_depth=6, classifier__max_features=log2, classifier__max_leaf_nodes=6, classifier__n_estimators=50; total time=   0.7s\n",
      "[CV] END classifier__max_depth=6, classifier__max_features=log2, classifier__max_leaf_nodes=6, classifier__n_estimators=50; total time=   0.8s\n",
      "[CV] END classifier__max_depth=6, classifier__max_features=log2, classifier__max_leaf_nodes=6, classifier__n_estimators=100; total time=   0.8s\n",
      "[CV] END classifier__max_depth=6, classifier__max_features=log2, classifier__max_leaf_nodes=6, classifier__n_estimators=100; total time=   0.8s\n",
      "[CV] END classifier__max_depth=6, classifier__max_features=log2, classifier__max_leaf_nodes=6, classifier__n_estimators=100; total time=   0.8s\n",
      "[CV] END classifier__max_depth=6, classifier__max_features=log2, classifier__max_leaf_nodes=6, classifier__n_estimators=100; total time=   0.8s\n",
      "[CV] END classifier__max_depth=6, classifier__max_features=log2, classifier__max_leaf_nodes=6, classifier__n_estimators=100; total time=   0.8s\n",
      "[CV] END classifier__max_depth=6, classifier__max_features=log2, classifier__max_leaf_nodes=6, classifier__n_estimators=200; total time=   0.8s\n",
      "[CV] END classifier__max_depth=6, classifier__max_features=log2, classifier__max_leaf_nodes=6, classifier__n_estimators=200; total time=   0.8s\n",
      "[CV] END classifier__max_depth=6, classifier__max_features=log2, classifier__max_leaf_nodes=6, classifier__n_estimators=200; total time=   0.8s\n",
      "[CV] END classifier__max_depth=6, classifier__max_features=log2, classifier__max_leaf_nodes=6, classifier__n_estimators=200; total time=   0.8s\n",
      "[CV] END classifier__max_depth=6, classifier__max_features=log2, classifier__max_leaf_nodes=6, classifier__n_estimators=200; total time=   0.8s\n",
      "[CV] END classifier__max_depth=6, classifier__max_features=log2, classifier__max_leaf_nodes=9, classifier__n_estimators=50; total time=   0.7s\n",
      "[CV] END classifier__max_depth=6, classifier__max_features=log2, classifier__max_leaf_nodes=9, classifier__n_estimators=50; total time=   0.7s\n",
      "[CV] END classifier__max_depth=6, classifier__max_features=log2, classifier__max_leaf_nodes=9, classifier__n_estimators=50; total time=   0.8s\n",
      "[CV] END classifier__max_depth=6, classifier__max_features=log2, classifier__max_leaf_nodes=9, classifier__n_estimators=50; total time=   0.7s\n",
      "[CV] END classifier__max_depth=6, classifier__max_features=log2, classifier__max_leaf_nodes=9, classifier__n_estimators=50; total time=   0.7s\n",
      "[CV] END classifier__max_depth=6, classifier__max_features=log2, classifier__max_leaf_nodes=9, classifier__n_estimators=100; total time=   0.8s\n",
      "[CV] END classifier__max_depth=6, classifier__max_features=log2, classifier__max_leaf_nodes=9, classifier__n_estimators=100; total time=   0.8s\n",
      "[CV] END classifier__max_depth=6, classifier__max_features=log2, classifier__max_leaf_nodes=9, classifier__n_estimators=100; total time=   0.8s\n",
      "[CV] END classifier__max_depth=6, classifier__max_features=log2, classifier__max_leaf_nodes=9, classifier__n_estimators=100; total time=   0.8s\n",
      "[CV] END classifier__max_depth=6, classifier__max_features=log2, classifier__max_leaf_nodes=9, classifier__n_estimators=100; total time=   0.8s\n",
      "[CV] END classifier__max_depth=6, classifier__max_features=log2, classifier__max_leaf_nodes=9, classifier__n_estimators=200; total time=   0.8s\n",
      "[CV] END classifier__max_depth=6, classifier__max_features=log2, classifier__max_leaf_nodes=9, classifier__n_estimators=200; total time=   0.8s\n",
      "[CV] END classifier__max_depth=6, classifier__max_features=log2, classifier__max_leaf_nodes=9, classifier__n_estimators=200; total time=   0.8s\n",
      "[CV] END classifier__max_depth=6, classifier__max_features=log2, classifier__max_leaf_nodes=9, classifier__n_estimators=200; total time=   0.8s\n",
      "[CV] END classifier__max_depth=6, classifier__max_features=log2, classifier__max_leaf_nodes=9, classifier__n_estimators=200; total time=   0.9s\n",
      "[CV] END classifier__max_depth=9, classifier__max_features=sqrt, classifier__max_leaf_nodes=3, classifier__n_estimators=50; total time=   0.7s\n",
      "[CV] END classifier__max_depth=9, classifier__max_features=sqrt, classifier__max_leaf_nodes=3, classifier__n_estimators=50; total time=   0.7s\n",
      "[CV] END classifier__max_depth=9, classifier__max_features=sqrt, classifier__max_leaf_nodes=3, classifier__n_estimators=50; total time=   0.7s\n",
      "[CV] END classifier__max_depth=9, classifier__max_features=sqrt, classifier__max_leaf_nodes=3, classifier__n_estimators=50; total time=   0.7s\n",
      "[CV] END classifier__max_depth=9, classifier__max_features=sqrt, classifier__max_leaf_nodes=3, classifier__n_estimators=50; total time=   0.7s\n",
      "[CV] END classifier__max_depth=9, classifier__max_features=sqrt, classifier__max_leaf_nodes=3, classifier__n_estimators=100; total time=   0.8s\n",
      "[CV] END classifier__max_depth=9, classifier__max_features=sqrt, classifier__max_leaf_nodes=3, classifier__n_estimators=100; total time=   0.8s\n",
      "[CV] END classifier__max_depth=9, classifier__max_features=sqrt, classifier__max_leaf_nodes=3, classifier__n_estimators=100; total time=   0.8s\n",
      "[CV] END classifier__max_depth=9, classifier__max_features=sqrt, classifier__max_leaf_nodes=3, classifier__n_estimators=100; total time=   0.8s\n",
      "[CV] END classifier__max_depth=9, classifier__max_features=sqrt, classifier__max_leaf_nodes=3, classifier__n_estimators=100; total time=   0.8s\n",
      "[CV] END classifier__max_depth=9, classifier__max_features=sqrt, classifier__max_leaf_nodes=3, classifier__n_estimators=200; total time=   0.8s\n",
      "[CV] END classifier__max_depth=9, classifier__max_features=sqrt, classifier__max_leaf_nodes=3, classifier__n_estimators=200; total time=   0.8s\n",
      "[CV] END classifier__max_depth=9, classifier__max_features=sqrt, classifier__max_leaf_nodes=3, classifier__n_estimators=200; total time=   0.9s\n",
      "[CV] END classifier__max_depth=9, classifier__max_features=sqrt, classifier__max_leaf_nodes=3, classifier__n_estimators=200; total time=   0.8s\n",
      "[CV] END classifier__max_depth=9, classifier__max_features=sqrt, classifier__max_leaf_nodes=3, classifier__n_estimators=200; total time=   0.8s\n",
      "[CV] END classifier__max_depth=9, classifier__max_features=sqrt, classifier__max_leaf_nodes=6, classifier__n_estimators=50; total time=   0.7s\n",
      "[CV] END classifier__max_depth=9, classifier__max_features=sqrt, classifier__max_leaf_nodes=6, classifier__n_estimators=50; total time=   0.7s\n",
      "[CV] END classifier__max_depth=9, classifier__max_features=sqrt, classifier__max_leaf_nodes=6, classifier__n_estimators=50; total time=   0.7s\n",
      "[CV] END classifier__max_depth=9, classifier__max_features=sqrt, classifier__max_leaf_nodes=6, classifier__n_estimators=50; total time=   0.7s\n",
      "[CV] END classifier__max_depth=9, classifier__max_features=sqrt, classifier__max_leaf_nodes=6, classifier__n_estimators=50; total time=   0.7s\n",
      "[CV] END classifier__max_depth=9, classifier__max_features=sqrt, classifier__max_leaf_nodes=6, classifier__n_estimators=100; total time=   0.8s\n",
      "[CV] END classifier__max_depth=9, classifier__max_features=sqrt, classifier__max_leaf_nodes=6, classifier__n_estimators=100; total time=   0.8s\n",
      "[CV] END classifier__max_depth=9, classifier__max_features=sqrt, classifier__max_leaf_nodes=6, classifier__n_estimators=100; total time=   0.8s\n",
      "[CV] END classifier__max_depth=9, classifier__max_features=sqrt, classifier__max_leaf_nodes=6, classifier__n_estimators=100; total time=   0.8s\n",
      "[CV] END classifier__max_depth=9, classifier__max_features=sqrt, classifier__max_leaf_nodes=6, classifier__n_estimators=100; total time=   0.8s\n",
      "[CV] END classifier__max_depth=9, classifier__max_features=sqrt, classifier__max_leaf_nodes=6, classifier__n_estimators=200; total time=   0.9s\n",
      "[CV] END classifier__max_depth=9, classifier__max_features=sqrt, classifier__max_leaf_nodes=6, classifier__n_estimators=200; total time=   0.8s\n",
      "[CV] END classifier__max_depth=9, classifier__max_features=sqrt, classifier__max_leaf_nodes=6, classifier__n_estimators=200; total time=   0.8s\n",
      "[CV] END classifier__max_depth=9, classifier__max_features=sqrt, classifier__max_leaf_nodes=6, classifier__n_estimators=200; total time=   0.8s\n",
      "[CV] END classifier__max_depth=9, classifier__max_features=sqrt, classifier__max_leaf_nodes=6, classifier__n_estimators=200; total time=   0.8s\n",
      "[CV] END classifier__max_depth=9, classifier__max_features=sqrt, classifier__max_leaf_nodes=9, classifier__n_estimators=50; total time=   0.7s\n",
      "[CV] END classifier__max_depth=9, classifier__max_features=sqrt, classifier__max_leaf_nodes=9, classifier__n_estimators=50; total time=   0.7s\n",
      "[CV] END classifier__max_depth=9, classifier__max_features=sqrt, classifier__max_leaf_nodes=9, classifier__n_estimators=50; total time=   0.7s\n",
      "[CV] END classifier__max_depth=9, classifier__max_features=sqrt, classifier__max_leaf_nodes=9, classifier__n_estimators=50; total time=   0.7s\n",
      "[CV] END classifier__max_depth=9, classifier__max_features=sqrt, classifier__max_leaf_nodes=9, classifier__n_estimators=50; total time=   0.7s\n",
      "[CV] END classifier__max_depth=9, classifier__max_features=sqrt, classifier__max_leaf_nodes=9, classifier__n_estimators=100; total time=   0.8s\n",
      "[CV] END classifier__max_depth=9, classifier__max_features=sqrt, classifier__max_leaf_nodes=9, classifier__n_estimators=100; total time=   0.8s\n",
      "[CV] END classifier__max_depth=9, classifier__max_features=sqrt, classifier__max_leaf_nodes=9, classifier__n_estimators=100; total time=   0.8s\n",
      "[CV] END classifier__max_depth=9, classifier__max_features=sqrt, classifier__max_leaf_nodes=9, classifier__n_estimators=100; total time=   0.8s\n",
      "[CV] END classifier__max_depth=9, classifier__max_features=sqrt, classifier__max_leaf_nodes=9, classifier__n_estimators=100; total time=   0.8s\n",
      "[CV] END classifier__max_depth=9, classifier__max_features=sqrt, classifier__max_leaf_nodes=9, classifier__n_estimators=200; total time=   0.8s\n",
      "[CV] END classifier__max_depth=9, classifier__max_features=sqrt, classifier__max_leaf_nodes=9, classifier__n_estimators=200; total time=   0.8s\n",
      "[CV] END classifier__max_depth=9, classifier__max_features=sqrt, classifier__max_leaf_nodes=9, classifier__n_estimators=200; total time=   0.8s\n",
      "[CV] END classifier__max_depth=9, classifier__max_features=sqrt, classifier__max_leaf_nodes=9, classifier__n_estimators=200; total time=   0.8s\n",
      "[CV] END classifier__max_depth=9, classifier__max_features=sqrt, classifier__max_leaf_nodes=9, classifier__n_estimators=200; total time=   0.8s\n",
      "[CV] END classifier__max_depth=9, classifier__max_features=log2, classifier__max_leaf_nodes=3, classifier__n_estimators=50; total time=   0.7s\n",
      "[CV] END classifier__max_depth=9, classifier__max_features=log2, classifier__max_leaf_nodes=3, classifier__n_estimators=50; total time=   0.7s\n",
      "[CV] END classifier__max_depth=9, classifier__max_features=log2, classifier__max_leaf_nodes=3, classifier__n_estimators=50; total time=   0.7s\n",
      "[CV] END classifier__max_depth=9, classifier__max_features=log2, classifier__max_leaf_nodes=3, classifier__n_estimators=50; total time=   0.7s\n",
      "[CV] END classifier__max_depth=9, classifier__max_features=log2, classifier__max_leaf_nodes=3, classifier__n_estimators=50; total time=   0.7s\n",
      "[CV] END classifier__max_depth=9, classifier__max_features=log2, classifier__max_leaf_nodes=3, classifier__n_estimators=100; total time=   0.8s\n",
      "[CV] END classifier__max_depth=9, classifier__max_features=log2, classifier__max_leaf_nodes=3, classifier__n_estimators=100; total time=   0.8s\n",
      "[CV] END classifier__max_depth=9, classifier__max_features=log2, classifier__max_leaf_nodes=3, classifier__n_estimators=100; total time=   0.8s\n",
      "[CV] END classifier__max_depth=9, classifier__max_features=log2, classifier__max_leaf_nodes=3, classifier__n_estimators=100; total time=   0.8s\n",
      "[CV] END classifier__max_depth=9, classifier__max_features=log2, classifier__max_leaf_nodes=3, classifier__n_estimators=100; total time=   0.8s\n",
      "[CV] END classifier__max_depth=9, classifier__max_features=log2, classifier__max_leaf_nodes=3, classifier__n_estimators=200; total time=   0.8s\n",
      "[CV] END classifier__max_depth=9, classifier__max_features=log2, classifier__max_leaf_nodes=3, classifier__n_estimators=200; total time=   0.8s\n",
      "[CV] END classifier__max_depth=9, classifier__max_features=log2, classifier__max_leaf_nodes=3, classifier__n_estimators=200; total time=   0.8s\n",
      "[CV] END classifier__max_depth=9, classifier__max_features=log2, classifier__max_leaf_nodes=3, classifier__n_estimators=200; total time=   0.8s\n",
      "[CV] END classifier__max_depth=9, classifier__max_features=log2, classifier__max_leaf_nodes=3, classifier__n_estimators=200; total time=   0.8s\n",
      "[CV] END classifier__max_depth=9, classifier__max_features=log2, classifier__max_leaf_nodes=6, classifier__n_estimators=50; total time=   0.7s\n",
      "[CV] END classifier__max_depth=9, classifier__max_features=log2, classifier__max_leaf_nodes=6, classifier__n_estimators=50; total time=   0.7s\n",
      "[CV] END classifier__max_depth=9, classifier__max_features=log2, classifier__max_leaf_nodes=6, classifier__n_estimators=50; total time=   0.8s\n",
      "[CV] END classifier__max_depth=9, classifier__max_features=log2, classifier__max_leaf_nodes=6, classifier__n_estimators=50; total time=   0.7s\n",
      "[CV] END classifier__max_depth=9, classifier__max_features=log2, classifier__max_leaf_nodes=6, classifier__n_estimators=50; total time=   0.7s\n",
      "[CV] END classifier__max_depth=9, classifier__max_features=log2, classifier__max_leaf_nodes=6, classifier__n_estimators=100; total time=   0.8s\n",
      "[CV] END classifier__max_depth=9, classifier__max_features=log2, classifier__max_leaf_nodes=6, classifier__n_estimators=100; total time=   0.8s\n",
      "[CV] END classifier__max_depth=9, classifier__max_features=log2, classifier__max_leaf_nodes=6, classifier__n_estimators=100; total time=   0.8s\n",
      "[CV] END classifier__max_depth=9, classifier__max_features=log2, classifier__max_leaf_nodes=6, classifier__n_estimators=100; total time=   0.8s\n",
      "[CV] END classifier__max_depth=9, classifier__max_features=log2, classifier__max_leaf_nodes=6, classifier__n_estimators=100; total time=   0.8s\n",
      "[CV] END classifier__max_depth=9, classifier__max_features=log2, classifier__max_leaf_nodes=6, classifier__n_estimators=200; total time=   0.8s\n",
      "[CV] END classifier__max_depth=9, classifier__max_features=log2, classifier__max_leaf_nodes=6, classifier__n_estimators=200; total time=   0.8s\n",
      "[CV] END classifier__max_depth=9, classifier__max_features=log2, classifier__max_leaf_nodes=6, classifier__n_estimators=200; total time=   0.8s\n",
      "[CV] END classifier__max_depth=9, classifier__max_features=log2, classifier__max_leaf_nodes=6, classifier__n_estimators=200; total time=   0.8s\n",
      "[CV] END classifier__max_depth=9, classifier__max_features=log2, classifier__max_leaf_nodes=6, classifier__n_estimators=200; total time=   0.8s\n",
      "[CV] END classifier__max_depth=9, classifier__max_features=log2, classifier__max_leaf_nodes=9, classifier__n_estimators=50; total time=   0.8s\n",
      "[CV] END classifier__max_depth=9, classifier__max_features=log2, classifier__max_leaf_nodes=9, classifier__n_estimators=50; total time=   0.7s\n",
      "[CV] END classifier__max_depth=9, classifier__max_features=log2, classifier__max_leaf_nodes=9, classifier__n_estimators=50; total time=   0.7s\n",
      "[CV] END classifier__max_depth=9, classifier__max_features=log2, classifier__max_leaf_nodes=9, classifier__n_estimators=50; total time=   0.7s\n",
      "[CV] END classifier__max_depth=9, classifier__max_features=log2, classifier__max_leaf_nodes=9, classifier__n_estimators=50; total time=   0.7s\n",
      "[CV] END classifier__max_depth=9, classifier__max_features=log2, classifier__max_leaf_nodes=9, classifier__n_estimators=100; total time=   0.8s\n",
      "[CV] END classifier__max_depth=9, classifier__max_features=log2, classifier__max_leaf_nodes=9, classifier__n_estimators=100; total time=   0.8s\n",
      "[CV] END classifier__max_depth=9, classifier__max_features=log2, classifier__max_leaf_nodes=9, classifier__n_estimators=100; total time=   0.8s\n",
      "[CV] END classifier__max_depth=9, classifier__max_features=log2, classifier__max_leaf_nodes=9, classifier__n_estimators=100; total time=   0.8s\n",
      "[CV] END classifier__max_depth=9, classifier__max_features=log2, classifier__max_leaf_nodes=9, classifier__n_estimators=100; total time=   0.8s\n",
      "[CV] END classifier__max_depth=9, classifier__max_features=log2, classifier__max_leaf_nodes=9, classifier__n_estimators=200; total time=   0.8s\n",
      "[CV] END classifier__max_depth=9, classifier__max_features=log2, classifier__max_leaf_nodes=9, classifier__n_estimators=200; total time=   0.8s\n",
      "[CV] END classifier__max_depth=9, classifier__max_features=log2, classifier__max_leaf_nodes=9, classifier__n_estimators=200; total time=   0.8s\n",
      "[CV] END classifier__max_depth=9, classifier__max_features=log2, classifier__max_leaf_nodes=9, classifier__n_estimators=200; total time=   0.9s\n",
      "[CV] END classifier__max_depth=9, classifier__max_features=log2, classifier__max_leaf_nodes=9, classifier__n_estimators=200; total time=   0.8s\n",
      "Pipeline(steps=[('preprocess',\n",
      "                 FunctionTransformer(func=<function preprocess at 0x137ee03a0>,\n",
      "                                     kw_args={'confidence': 0.7,\n",
      "                                              'correlation_limit': 0.9})),\n",
      "                ('oversampler', RandomOverSampler()),\n",
      "                ('classifier',\n",
      "                 RandomForestClassifier(max_depth=9, max_features='log2',\n",
      "                                        max_leaf_nodes=9))])\n"
     ]
    }
   ],
   "source": [
    "from sklearn.ensemble import RandomForestClassifier\n",
    "\n",
    "pipeline = Pipeline([\n",
    "    ('preprocess', FunctionTransformer(preprocess, kw_args={'confidence': 0.7, 'correlation_limit': 0.9})),\n",
    "    ('oversampler', RandomOverSampler()),\n",
    "    ('classifier', RandomForestClassifier())\n",
    "])\n",
    "param_grid = {\n",
    "\t'classifier__n_estimators': [50, 100, 200],\n",
    "\t'classifier__max_features': ['sqrt', 'log2'],\n",
    "\t'classifier__max_depth': [3, 6, 9],\n",
    "\t'classifier__max_leaf_nodes': [3, 6, 9],\n",
    "}\n",
    "\n",
    "\n",
    "grid_search = GridSearchCV(pipeline,\n",
    "                           param_grid=param_grid, verbose = 2)\n",
    "grid_search.fit(X_train, y_train)\n",
    "print(grid_search.best_estimator_)"
   ]
  },
  {
   "cell_type": "code",
   "execution_count": 40,
   "id": "4dfae6da-0825-4a70-81b1-aee8b4b18d20",
   "metadata": {},
   "outputs": [
    {
     "name": "stdout",
     "output_type": "stream",
     "text": [
      "Best hyperparameters: {'classifier__max_depth': 9, 'classifier__max_features': 'log2', 'classifier__max_leaf_nodes': 9, 'classifier__n_estimators': 100}\n",
      "Best score: 0.9323308270676692\n"
     ]
    }
   ],
   "source": [
    "print(\"Best hyperparameters:\", grid_search.best_params_)\n",
    "print(\"Best score:\", grid_search.best_score_)"
   ]
  },
  {
   "cell_type": "markdown",
   "id": "177a4e2f-6a71-47a8-8dcf-d1501908d42c",
   "metadata": {},
   "source": [
    "\n",
    "\n",
    "more data would mean RF maybe improve performance, currently overfitting\n",
    "\n",
    "\n",
    "Better idea of scoring - currently very small test data sets \n"
   ]
  },
  {
   "cell_type": "markdown",
   "id": "ec46f779-3da1-48dc-9b4d-97cf9d4e8993",
   "metadata": {},
   "source": [
    "# final model"
   ]
  },
  {
   "cell_type": "code",
   "execution_count": 41,
   "id": "c124eab1-6378-42ec-b59d-9c2a1e39821f",
   "metadata": {},
   "outputs": [
    {
     "data": {
      "text/html": [
       "<style>#sk-container-id-3 {color: black;background-color: white;}#sk-container-id-3 pre{padding: 0;}#sk-container-id-3 div.sk-toggleable {background-color: white;}#sk-container-id-3 label.sk-toggleable__label {cursor: pointer;display: block;width: 100%;margin-bottom: 0;padding: 0.3em;box-sizing: border-box;text-align: center;}#sk-container-id-3 label.sk-toggleable__label-arrow:before {content: \"▸\";float: left;margin-right: 0.25em;color: #696969;}#sk-container-id-3 label.sk-toggleable__label-arrow:hover:before {color: black;}#sk-container-id-3 div.sk-estimator:hover label.sk-toggleable__label-arrow:before {color: black;}#sk-container-id-3 div.sk-toggleable__content {max-height: 0;max-width: 0;overflow: hidden;text-align: left;background-color: #f0f8ff;}#sk-container-id-3 div.sk-toggleable__content pre {margin: 0.2em;color: black;border-radius: 0.25em;background-color: #f0f8ff;}#sk-container-id-3 input.sk-toggleable__control:checked~div.sk-toggleable__content {max-height: 200px;max-width: 100%;overflow: auto;}#sk-container-id-3 input.sk-toggleable__control:checked~label.sk-toggleable__label-arrow:before {content: \"▾\";}#sk-container-id-3 div.sk-estimator input.sk-toggleable__control:checked~label.sk-toggleable__label {background-color: #d4ebff;}#sk-container-id-3 div.sk-label input.sk-toggleable__control:checked~label.sk-toggleable__label {background-color: #d4ebff;}#sk-container-id-3 input.sk-hidden--visually {border: 0;clip: rect(1px 1px 1px 1px);clip: rect(1px, 1px, 1px, 1px);height: 1px;margin: -1px;overflow: hidden;padding: 0;position: absolute;width: 1px;}#sk-container-id-3 div.sk-estimator {font-family: monospace;background-color: #f0f8ff;border: 1px dotted black;border-radius: 0.25em;box-sizing: border-box;margin-bottom: 0.5em;}#sk-container-id-3 div.sk-estimator:hover {background-color: #d4ebff;}#sk-container-id-3 div.sk-parallel-item::after {content: \"\";width: 100%;border-bottom: 1px solid gray;flex-grow: 1;}#sk-container-id-3 div.sk-label:hover label.sk-toggleable__label {background-color: #d4ebff;}#sk-container-id-3 div.sk-serial::before {content: \"\";position: absolute;border-left: 1px solid gray;box-sizing: border-box;top: 0;bottom: 0;left: 50%;z-index: 0;}#sk-container-id-3 div.sk-serial {display: flex;flex-direction: column;align-items: center;background-color: white;padding-right: 0.2em;padding-left: 0.2em;position: relative;}#sk-container-id-3 div.sk-item {position: relative;z-index: 1;}#sk-container-id-3 div.sk-parallel {display: flex;align-items: stretch;justify-content: center;background-color: white;position: relative;}#sk-container-id-3 div.sk-item::before, #sk-container-id-3 div.sk-parallel-item::before {content: \"\";position: absolute;border-left: 1px solid gray;box-sizing: border-box;top: 0;bottom: 0;left: 50%;z-index: -1;}#sk-container-id-3 div.sk-parallel-item {display: flex;flex-direction: column;z-index: 1;position: relative;background-color: white;}#sk-container-id-3 div.sk-parallel-item:first-child::after {align-self: flex-end;width: 50%;}#sk-container-id-3 div.sk-parallel-item:last-child::after {align-self: flex-start;width: 50%;}#sk-container-id-3 div.sk-parallel-item:only-child::after {width: 0;}#sk-container-id-3 div.sk-dashed-wrapped {border: 1px dashed gray;margin: 0 0.4em 0.5em 0.4em;box-sizing: border-box;padding-bottom: 0.4em;background-color: white;}#sk-container-id-3 div.sk-label label {font-family: monospace;font-weight: bold;display: inline-block;line-height: 1.2em;}#sk-container-id-3 div.sk-label-container {text-align: center;}#sk-container-id-3 div.sk-container {/* jupyter's `normalize.less` sets `[hidden] { display: none; }` but bootstrap.min.css set `[hidden] { display: none !important; }` so we also need the `!important` here to be able to override the default hidden behavior on the sphinx rendered scikit-learn.org. See: https://github.com/scikit-learn/scikit-learn/issues/21755 */display: inline-block !important;position: relative;}#sk-container-id-3 div.sk-text-repr-fallback {display: none;}</style><div id=\"sk-container-id-3\" class=\"sk-top-container\"><div class=\"sk-text-repr-fallback\"><pre>Pipeline(steps=[(&#x27;preprocess&#x27;,\n",
       "                 FunctionTransformer(func=&lt;function preprocess at 0x137ee03a0&gt;,\n",
       "                                     kw_args={&#x27;confidence&#x27;: 0.7,\n",
       "                                              &#x27;correlation_limit&#x27;: 0.9})),\n",
       "                (&#x27;oversampler&#x27;, RandomOverSampler()),\n",
       "                (&#x27;classifier&#x27;,\n",
       "                 OneVsRestClassifier(estimator=LogisticRegression(penalty=&#x27;l1&#x27;,\n",
       "                                                                  random_state=42,\n",
       "                                                                  solver=&#x27;liblinear&#x27;)))])</pre><b>In a Jupyter environment, please rerun this cell to show the HTML representation or trust the notebook. <br />On GitHub, the HTML representation is unable to render, please try loading this page with nbviewer.org.</b></div><div class=\"sk-container\" hidden><div class=\"sk-item sk-dashed-wrapped\"><div class=\"sk-label-container\"><div class=\"sk-label sk-toggleable\"><input class=\"sk-toggleable__control sk-hidden--visually\" id=\"sk-estimator-id-13\" type=\"checkbox\" ><label for=\"sk-estimator-id-13\" class=\"sk-toggleable__label sk-toggleable__label-arrow\">Pipeline</label><div class=\"sk-toggleable__content\"><pre>Pipeline(steps=[(&#x27;preprocess&#x27;,\n",
       "                 FunctionTransformer(func=&lt;function preprocess at 0x137ee03a0&gt;,\n",
       "                                     kw_args={&#x27;confidence&#x27;: 0.7,\n",
       "                                              &#x27;correlation_limit&#x27;: 0.9})),\n",
       "                (&#x27;oversampler&#x27;, RandomOverSampler()),\n",
       "                (&#x27;classifier&#x27;,\n",
       "                 OneVsRestClassifier(estimator=LogisticRegression(penalty=&#x27;l1&#x27;,\n",
       "                                                                  random_state=42,\n",
       "                                                                  solver=&#x27;liblinear&#x27;)))])</pre></div></div></div><div class=\"sk-serial\"><div class=\"sk-item\"><div class=\"sk-estimator sk-toggleable\"><input class=\"sk-toggleable__control sk-hidden--visually\" id=\"sk-estimator-id-14\" type=\"checkbox\" ><label for=\"sk-estimator-id-14\" class=\"sk-toggleable__label sk-toggleable__label-arrow\">FunctionTransformer</label><div class=\"sk-toggleable__content\"><pre>FunctionTransformer(func=&lt;function preprocess at 0x137ee03a0&gt;,\n",
       "                    kw_args={&#x27;confidence&#x27;: 0.7, &#x27;correlation_limit&#x27;: 0.9})</pre></div></div></div><div class=\"sk-item\"><div class=\"sk-estimator sk-toggleable\"><input class=\"sk-toggleable__control sk-hidden--visually\" id=\"sk-estimator-id-15\" type=\"checkbox\" ><label for=\"sk-estimator-id-15\" class=\"sk-toggleable__label sk-toggleable__label-arrow\">RandomOverSampler</label><div class=\"sk-toggleable__content\"><pre>RandomOverSampler()</pre></div></div></div><div class=\"sk-item sk-dashed-wrapped\"><div class=\"sk-label-container\"><div class=\"sk-label sk-toggleable\"><input class=\"sk-toggleable__control sk-hidden--visually\" id=\"sk-estimator-id-16\" type=\"checkbox\" ><label for=\"sk-estimator-id-16\" class=\"sk-toggleable__label sk-toggleable__label-arrow\">classifier: OneVsRestClassifier</label><div class=\"sk-toggleable__content\"><pre>OneVsRestClassifier(estimator=LogisticRegression(penalty=&#x27;l1&#x27;, random_state=42,\n",
       "                                                 solver=&#x27;liblinear&#x27;))</pre></div></div></div><div class=\"sk-parallel\"><div class=\"sk-parallel-item\"><div class=\"sk-item\"><div class=\"sk-label-container\"><div class=\"sk-label sk-toggleable\"><input class=\"sk-toggleable__control sk-hidden--visually\" id=\"sk-estimator-id-17\" type=\"checkbox\" ><label for=\"sk-estimator-id-17\" class=\"sk-toggleable__label sk-toggleable__label-arrow\">estimator: LogisticRegression</label><div class=\"sk-toggleable__content\"><pre>LogisticRegression(penalty=&#x27;l1&#x27;, random_state=42, solver=&#x27;liblinear&#x27;)</pre></div></div></div><div class=\"sk-serial\"><div class=\"sk-item\"><div class=\"sk-estimator sk-toggleable\"><input class=\"sk-toggleable__control sk-hidden--visually\" id=\"sk-estimator-id-18\" type=\"checkbox\" ><label for=\"sk-estimator-id-18\" class=\"sk-toggleable__label sk-toggleable__label-arrow\">LogisticRegression</label><div class=\"sk-toggleable__content\"><pre>LogisticRegression(penalty=&#x27;l1&#x27;, random_state=42, solver=&#x27;liblinear&#x27;)</pre></div></div></div></div></div></div></div></div></div></div></div></div>"
      ],
      "text/plain": [
       "Pipeline(steps=[('preprocess',\n",
       "                 FunctionTransformer(func=<function preprocess at 0x137ee03a0>,\n",
       "                                     kw_args={'confidence': 0.7,\n",
       "                                              'correlation_limit': 0.9})),\n",
       "                ('oversampler', RandomOverSampler()),\n",
       "                ('classifier',\n",
       "                 OneVsRestClassifier(estimator=LogisticRegression(penalty='l1',\n",
       "                                                                  random_state=42,\n",
       "                                                                  solver='liblinear')))])"
      ]
     },
     "execution_count": 41,
     "metadata": {},
     "output_type": "execute_result"
    }
   ],
   "source": [
    "pipeline = Pipeline([\n",
    "    ('preprocess', FunctionTransformer(preprocess, kw_args={'confidence': 0.7, 'correlation_limit': 0.9})),\n",
    "    ('oversampler', RandomOverSampler()),\n",
    "    ('classifier', OneVsRestClassifier(LogisticRegression(penalty='l1',\n",
    "                                                          random_state=42,\n",
    "                                                          solver ='liblinear')))\n",
    "])\n",
    "\n",
    "\n",
    "pipeline.fit(data.drop(columns=['label']), data.label)\n"
   ]
  },
  {
   "cell_type": "code",
   "execution_count": 42,
   "id": "6589986c-e5ab-4952-9a9e-40046445c4c0",
   "metadata": {},
   "outputs": [
    {
     "data": {
      "text/plain": [
       "0.9904153354632588"
      ]
     },
     "execution_count": 42,
     "metadata": {},
     "output_type": "execute_result"
    }
   ],
   "source": [
    "pipeline.score(data.drop(columns=['label']), data.label)"
   ]
  },
  {
   "cell_type": "markdown",
   "id": "861ea362-ab6b-4d46-8071-be4602b49823",
   "metadata": {},
   "source": [
    "# future work"
   ]
  },
  {
   "cell_type": "markdown",
   "id": "2210b8a4-e032-47ba-8403-af586a24e6bd",
   "metadata": {},
   "source": [
    "improve correlation filter:\n"
   ]
  },
  {
   "cell_type": "code",
   "execution_count": 43,
   "id": "035badc7-7504-4067-b2e6-2f17cf6095bc",
   "metadata": {},
   "outputs": [],
   "source": [
    "# \n",
    "# # - we can apply a chi squared test on each highly correlated feature with the target variable (since both are categorical)\n",
    "# # - keep the variable that has best associated with target.\n",
    "# \n",
    "# # from scipy.stats import chi2_contingency\n",
    "\n",
    "\n",
    "# corrs = out.corr()\n",
    "# keep_vars = []\n",
    "# for i in corrs:\n",
    "#     highs = corrs[i][corrs[i]>0.5]\n",
    "    \n",
    "#     min_p = 1\n",
    "#     chosen_i = None\n",
    "#     for i in highs.index:\n",
    "#         chi2_stat, p_value, dof, expected = chi2_contingency(pd.crosstab(out[i], data.label))\n",
    "#         print(p_value)\n",
    "#         if p_value < min_p:\n",
    "#             min_p = p_value\n",
    "#             chosen_i = i\n",
    "        \n"
   ]
  },
  {
   "cell_type": "markdown",
   "id": "5da26730-07b1-4b53-80df-0293a1b597de",
   "metadata": {},
   "source": [
    "### More features\n",
    "\n",
    "Latitudes and longitudes - map to countries - Andorra / france for skiing for example\n",
    "    \n",
    "time stamps - time of year could be indicative - summer vs skiing.  Could also combine with country since different countries have different seasons.\n",
    "\n",
    "    - this could help with where labels are not great\n",
    "\n",
    "More work on features, combinations of features - to aid the  linear nature of LR"
   ]
  },
  {
   "cell_type": "markdown",
   "id": "1c1b3dcb-cf72-4dec-8755-377ae71d10f3",
   "metadata": {},
   "source": [
    "# productionising"
   ]
  },
  {
   "cell_type": "markdown",
   "id": "72f847d9-e63b-4569-983b-4636f9685480",
   "metadata": {},
   "source": [
    "- refine pipeline to only use final selected features from l1\n",
    "- deploy in cloud\n",
    "    - either run in batch to classify users photos or  process 'online'\n",
    "- monitor performance\n",
    "    - distribution of predictions\n",
    "    - periodically perform manual checks\n",
    "- input monitoring\n",
    "    - monitor distributions of input features\n",
    "- periodically retrain"
   ]
  },
  {
   "cell_type": "markdown",
   "id": "db80dc5f-c155-4871-afe4-15f1659aed13",
   "metadata": {},
   "source": [
    "# suitable for running in an offline-mobile environment\n",
    "\n",
    "\n",
    "the running of this model should be of nmo issue on a mobile device. Processing is very minimal.\n",
    "\n",
    "The high intensity part I assume would be generating the label confidences in the first place.  If this is the case, then we can potemntially apply these in batch, while the classification of the images themselves can me done at runtime on the users device."
   ]
  }
 ],
 "metadata": {
  "kernelspec": {
   "display_name": "Python 3 (ipykernel)",
   "language": "python",
   "name": "python3"
  },
  "language_info": {
   "codemirror_mode": {
    "name": "ipython",
    "version": 3
   },
   "file_extension": ".py",
   "mimetype": "text/x-python",
   "name": "python",
   "nbconvert_exporter": "python",
   "pygments_lexer": "ipython3",
   "version": "3.9.13"
  }
 },
 "nbformat": 4,
 "nbformat_minor": 5
}
