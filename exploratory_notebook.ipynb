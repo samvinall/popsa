{
 "cells": [
  {
   "cell_type": "code",
   "execution_count": 1,
   "id": "21a67a6d-bfdc-423f-bdae-a3cba58506b3",
   "metadata": {},
   "outputs": [],
   "source": [
    "import re\n",
    "import json\n",
    "import os\n",
    "import pandas as pd\n",
    "import pickle\n"
   ]
  },
  {
   "cell_type": "markdown",
   "id": "2402159f-813e-4d0b-bfae-77ca3ac9a731",
   "metadata": {},
   "source": [
    "# Extract"
   ]
  },
  {
   "cell_type": "code",
   "execution_count": 2,
   "id": "e58c0a9f-7b38-4119-9838-1e6f89d11cf6",
   "metadata": {},
   "outputs": [],
   "source": [
    "def read_img_json(filename):\n",
    "    with open(filename, 'r') as f:\n",
    "    # Load the data from the file using the custom decoder\n",
    "        data = json.load(f, cls=UnquotedPropertyDecoder)\n",
    "    return data"
   ]
  },
  {
   "cell_type": "code",
   "execution_count": 3,
   "id": "7f6db4ad-e324-49c2-a8a7-1f4f7d09ff03",
   "metadata": {},
   "outputs": [],
   "source": [
    "def read_img_json(filename):\n",
    "    with open(filename, 'r') as f:\n",
    "    # Load the data from the file using the custom decoder\n",
    "        data = json.load(f, cls=UnquotedPropertyDecoder)\n",
    "    return data\n",
    "\n",
    "class UnquotedPropertyDecoder(json.JSONDecoder):\n",
    "    def decode(self, s, *args, **kwargs):\n",
    "        # Replace unquoted property names with quoted property names\n",
    "        s = re.sub(r'([{,]\\s*)(\\w+)(\\s*:)', r'\\1\"\\2\"\\3', s)\n",
    "        return super(UnquotedPropertyDecoder, self).decode(s, *args, **kwargs)\n"
   ]
  },
  {
   "cell_type": "code",
   "execution_count": 4,
   "id": "6ecc6028-fc56-40aa-ad52-7eb0362dedcb",
   "metadata": {},
   "outputs": [],
   "source": [
    "confidence = 0.5"
   ]
  },
  {
   "cell_type": "code",
   "execution_count": 5,
   "id": "640fa0d5-905e-4c3f-a43b-7d3e2c43f9d1",
   "metadata": {},
   "outputs": [],
   "source": [
    "filenames = { folder:\n",
    "    [\n",
    "        file\n",
    "        for file in os.listdir(f'data/{folder}') \n",
    "        if '.json' in file \n",
    "    ] \n",
    "    for folder in os.listdir('data')\n",
    "}\n"
   ]
  },
  {
   "cell_type": "code",
   "execution_count": 6,
   "id": "51c4a410-bc0b-4899-be2f-b260176a2531",
   "metadata": {},
   "outputs": [],
   "source": [
    "extract = {}"
   ]
  },
  {
   "cell_type": "code",
   "execution_count": 7,
   "id": "11be6767-f404-4fcb-8206-659f8873cb33",
   "metadata": {},
   "outputs": [],
   "source": [
    "all_labels = []\n",
    "for folder, files in filenames.items():\n",
    "    extract[folder] = {}\n",
    "    for file in files:\n",
    "        data = read_img_json(os.path.join('data', folder, file))    \n",
    "        #print(data)\n",
    "        labels = [\n",
    "            x.get('Name') \n",
    "            for x in data['Labels']\n",
    "            if x.get('Confidence') > confidence\n",
    "        ]\n",
    "        extract[folder][file] = labels\n",
    "        all_labels.extend(labels)\n",
    "label_counts = pd.Series(all_labels).value_counts()\n",
    "label_counts.index = [i.lower() for i in label_counts.index.values]\n"
   ]
  },
  {
   "cell_type": "code",
   "execution_count": 8,
   "id": "7fb3ef1d-e133-4b29-83e7-f819ed23d5ed",
   "metadata": {},
   "outputs": [],
   "source": [
    "label_counts = pd.Series(all_labels).value_counts()\n",
    "label_counts.index = [i.lower() for i in label_counts.index.values]\n"
   ]
  },
  {
   "cell_type": "code",
   "execution_count": 9,
   "id": "4fcf616a-2db5-43eb-8364-835f8fe29fc4",
   "metadata": {},
   "outputs": [],
   "source": [
    "all_labels = sorted(list(set(all_labels)))"
   ]
  },
  {
   "cell_type": "code",
   "execution_count": 10,
   "id": "ceaf0d28-b3b3-4844-8316-6a8e70b5df0d",
   "metadata": {},
   "outputs": [],
   "source": []
  },
  {
   "cell_type": "code",
   "execution_count": 11,
   "id": "f2e815b2-d1e2-43f7-8abf-c992ef5496d4",
   "metadata": {
    "tags": []
   },
   "outputs": [
    {
     "data": {
      "text/plain": [
       "['Abies',\n",
       " 'Accessories',\n",
       " 'Accessory',\n",
       " 'Adventure',\n",
       " 'Aircraft',\n",
       " 'Alcohol',\n",
       " 'Alloy Wheel',\n",
       " 'Aluminium',\n",
       " 'Amusement Park',\n",
       " 'Animal',\n",
       " 'Ankle',\n",
       " 'Apparel',\n",
       " 'Appliance',\n",
       " 'Architecture',\n",
       " 'Arm',\n",
       " 'Armchair',\n",
       " 'Art',\n",
       " 'Asphalt',\n",
       " 'Athlete',\n",
       " 'Audience',\n",
       " 'Automobile',\n",
       " 'Azure Sky',\n",
       " 'Baby',\n",
       " 'Back',\n",
       " 'Backpack',\n",
       " 'Backyard',\n",
       " 'Bag',\n",
       " 'Bakery',\n",
       " 'Ball',\n",
       " 'Balloon',\n",
       " 'Banister',\n",
       " 'Bar Counter',\n",
       " 'Barefoot',\n",
       " 'Bazaar',\n",
       " 'Beach',\n",
       " 'Beanie',\n",
       " 'Bear',\n",
       " 'Beard',\n",
       " 'Bed',\n",
       " 'Beer',\n",
       " 'Beer Glass',\n",
       " 'Bench',\n",
       " 'Beverage',\n",
       " 'Bicycle',\n",
       " 'Bike',\n",
       " 'Bikini',\n",
       " 'Bird',\n",
       " 'Birthday Cake',\n",
       " 'Birthday Party',\n",
       " 'Biscuit',\n",
       " 'Blade',\n",
       " 'Blizzard',\n",
       " 'Blonde',\n",
       " 'Blossom',\n",
       " 'Blouse',\n",
       " 'Boat',\n",
       " 'Bomb',\n",
       " 'Boot',\n",
       " 'Bottle',\n",
       " 'Bowl',\n",
       " 'Boy',\n",
       " 'Bread',\n",
       " 'Buffet',\n",
       " 'Building',\n",
       " 'Bun',\n",
       " 'Burger',\n",
       " 'Cable Car',\n",
       " 'Cafeteria',\n",
       " 'Cake',\n",
       " 'Camera',\n",
       " 'Can',\n",
       " 'Candle',\n",
       " 'Canine',\n",
       " 'Cap',\n",
       " 'Car',\n",
       " 'Carnival',\n",
       " 'Cell Phone',\n",
       " 'Chair',\n",
       " 'Child',\n",
       " 'Chocolate',\n",
       " 'City',\n",
       " 'Clothing',\n",
       " 'Cloud',\n",
       " 'Coast',\n",
       " 'Coat',\n",
       " 'Coffee Table',\n",
       " 'Concert',\n",
       " 'Confectionery',\n",
       " 'Conifer',\n",
       " 'Cooker',\n",
       " 'Cookie',\n",
       " 'Cooktop',\n",
       " 'Costume',\n",
       " 'Couch',\n",
       " 'Countryside',\n",
       " 'Crash Helmet',\n",
       " 'Crowd',\n",
       " 'Cumulus',\n",
       " 'Cushion',\n",
       " 'Cutlery',\n",
       " 'Dating',\n",
       " 'Denim',\n",
       " 'Dessert',\n",
       " 'Dining Table',\n",
       " 'Dish',\n",
       " 'Display',\n",
       " 'Doctor',\n",
       " 'Dog',\n",
       " 'Donut',\n",
       " 'Dress',\n",
       " 'Drink',\n",
       " 'Drinking',\n",
       " 'Eating',\n",
       " 'Electronics',\n",
       " 'Exercise',\n",
       " 'Face',\n",
       " 'Family',\n",
       " 'Female',\n",
       " 'Fence',\n",
       " 'Field',\n",
       " 'Finger',\n",
       " 'Fir',\n",
       " 'Fitness',\n",
       " 'Flag',\n",
       " 'Flower',\n",
       " 'Flower Arrangement',\n",
       " 'Flower Bouquet',\n",
       " 'Food',\n",
       " 'Footwear',\n",
       " 'Forest',\n",
       " 'Fork',\n",
       " 'Furniture',\n",
       " 'Gambling',\n",
       " 'Game',\n",
       " 'Garden',\n",
       " 'Girl',\n",
       " 'Glacier',\n",
       " 'Glass',\n",
       " 'Glasses',\n",
       " 'Goggles',\n",
       " 'Graphics',\n",
       " 'Grass',\n",
       " 'Grassland',\n",
       " 'Grove',\n",
       " 'Hair',\n",
       " 'Haircut',\n",
       " 'Hand',\n",
       " 'Handrail',\n",
       " 'Hardhat',\n",
       " 'Hat',\n",
       " 'Head',\n",
       " 'Heel',\n",
       " 'Helicopter',\n",
       " 'Helmet',\n",
       " 'Herbs',\n",
       " 'Home Decor',\n",
       " 'Hood',\n",
       " 'Housing',\n",
       " 'Huddle',\n",
       " 'Hug',\n",
       " 'Human',\n",
       " 'Hunting',\n",
       " 'Ice',\n",
       " 'Ikebana',\n",
       " 'Indoors',\n",
       " 'Interior Design',\n",
       " 'Jacket',\n",
       " 'Jar',\n",
       " 'Jeans',\n",
       " 'Jogging',\n",
       " 'Jug',\n",
       " 'Kid',\n",
       " 'Kite',\n",
       " 'Knife',\n",
       " 'LCD Screen',\n",
       " 'Lady',\n",
       " 'Lager',\n",
       " 'Lamp',\n",
       " 'Land',\n",
       " 'Laughing',\n",
       " 'Lawn',\n",
       " 'Leisure Activities',\n",
       " 'Lesser Panda',\n",
       " 'Lifejacket',\n",
       " 'Lighting',\n",
       " 'Linen',\n",
       " 'Lip',\n",
       " 'Living Room',\n",
       " 'Long Sleeve',\n",
       " 'Lunch',\n",
       " 'Machine',\n",
       " 'Mammal',\n",
       " 'Man',\n",
       " 'Market',\n",
       " 'Massage',\n",
       " 'Meal',\n",
       " 'Mobile Phone',\n",
       " 'Monitor',\n",
       " 'Mountain',\n",
       " 'Mountain Range',\n",
       " 'Mouth',\n",
       " 'Nature',\n",
       " 'Neighborhood',\n",
       " 'Oars',\n",
       " 'Ocean',\n",
       " 'Ornament',\n",
       " 'Outdoors',\n",
       " 'Oven',\n",
       " 'Overcoat',\n",
       " 'Paddle',\n",
       " 'Pants',\n",
       " 'Party',\n",
       " 'Party Hat',\n",
       " 'Pastry',\n",
       " 'Patio',\n",
       " 'Peak',\n",
       " 'Pedestrian',\n",
       " 'People',\n",
       " 'Performer',\n",
       " 'Person',\n",
       " 'Pet',\n",
       " 'Petal',\n",
       " 'Phone',\n",
       " 'Photo',\n",
       " 'Photography',\n",
       " 'Picnic',\n",
       " 'Pillow',\n",
       " 'Pine',\n",
       " 'Piste',\n",
       " 'Plant',\n",
       " 'Planter',\n",
       " 'Planting',\n",
       " 'Play',\n",
       " 'Portrait',\n",
       " 'Potted Plant',\n",
       " 'Pottery',\n",
       " 'Promontory',\n",
       " 'Pub',\n",
       " 'Restaurant',\n",
       " 'Room',\n",
       " 'Running',\n",
       " 'Rural',\n",
       " 'Sand',\n",
       " 'Sandwich',\n",
       " 'Scarf',\n",
       " 'Scenery',\n",
       " 'Screen',\n",
       " 'Sea',\n",
       " 'Sea Life',\n",
       " 'Selfie',\n",
       " 'Senior Citizen',\n",
       " 'Shelf',\n",
       " 'Shelter',\n",
       " 'Shirt',\n",
       " 'Shoe',\n",
       " 'Shop',\n",
       " 'Shoreline',\n",
       " 'Shorts',\n",
       " 'Sitting',\n",
       " 'Skiing',\n",
       " 'Skin',\n",
       " 'Sky',\n",
       " 'Slate',\n",
       " 'Sled',\n",
       " 'Sleeve',\n",
       " 'Slide',\n",
       " 'Slope',\n",
       " 'Smile',\n",
       " 'Snow',\n",
       " 'Snowboarding',\n",
       " 'Sock',\n",
       " 'Soil',\n",
       " 'Spoke',\n",
       " 'Sport',\n",
       " 'Sports',\n",
       " 'Spring Break',\n",
       " 'Standing',\n",
       " 'Stein',\n",
       " 'Storm',\n",
       " 'Stretch',\n",
       " 'Suburb',\n",
       " 'Suit',\n",
       " 'Summer',\n",
       " 'Sun',\n",
       " 'Sun Hat',\n",
       " 'Sunglasses',\n",
       " 'Sunlight',\n",
       " 'Sweater',\n",
       " 'Sweets',\n",
       " 'Swimwear',\n",
       " 'Symbol',\n",
       " 'T-Shirt',\n",
       " 'Table',\n",
       " 'Table Lamp',\n",
       " 'Tablecloth',\n",
       " 'Tarmac',\n",
       " 'Tattoo',\n",
       " 'Team',\n",
       " 'Teen',\n",
       " 'Teeth',\n",
       " 'Tent',\n",
       " 'Thumbs Up',\n",
       " 'Tin',\n",
       " 'Tire',\n",
       " 'Toe',\n",
       " 'Tote Bag',\n",
       " 'Tourist',\n",
       " 'Town',\n",
       " 'Toy',\n",
       " 'Transportation',\n",
       " 'Tree',\n",
       " 'Urban',\n",
       " 'Utility Pole',\n",
       " 'Vacation',\n",
       " 'Vase',\n",
       " 'Vegetation',\n",
       " 'Vehicle',\n",
       " 'Vest',\n",
       " 'Veterinarian',\n",
       " 'Video Gaming',\n",
       " 'Walking',\n",
       " 'Wall',\n",
       " 'Water',\n",
       " 'Weapon',\n",
       " 'Weaponry',\n",
       " 'Weather',\n",
       " 'Wheel',\n",
       " 'Wildlife',\n",
       " 'Winter',\n",
       " 'Woman',\n",
       " 'Wood',\n",
       " 'Woodland',\n",
       " 'Working Out',\n",
       " 'Yard',\n",
       " 'Yoga',\n",
       " 'Zoo']"
      ]
     },
     "execution_count": 11,
     "metadata": {},
     "output_type": "execute_result"
    }
   ],
   "source": [
    "all_labels"
   ]
  },
  {
   "cell_type": "code",
   "execution_count": 12,
   "id": "49bfb878-af1f-4bc9-9602-0ed90a603f18",
   "metadata": {
    "tags": []
   },
   "outputs": [],
   "source": [
    "data = []\n",
    "for label, images in extract.items():\n",
    "    for image, labels in images.items():\n",
    "        row = [label]\n",
    "        for i in all_labels:\n",
    "            row.append(1 if i in labels else 0)\n",
    "        data.append(row)"
   ]
  },
  {
   "cell_type": "code",
   "execution_count": 13,
   "id": "dd329d01-2a5c-40e4-a5e6-a42c36ad8c81",
   "metadata": {},
   "outputs": [],
   "source": [
    "data = pd.DataFrame(data)\n",
    "data.columns = ['label']+[i.lower() for i in all_labels]\n"
   ]
  },
  {
   "cell_type": "markdown",
   "id": "2fd881c5-87d2-42e5-bc39-35a6eeddb15a",
   "metadata": {},
   "source": [
    "# Explore"
   ]
  },
  {
   "cell_type": "code",
   "execution_count": 14,
   "id": "0d18d5f1-b15f-4482-9dde-871a80aa908c",
   "metadata": {},
   "outputs": [
    {
     "data": {
      "text/plain": [
       "summer-with-grandkids    118\n",
       "skiing-holiday            68\n",
       "garden-birthday-party     67\n",
       "day-at-beach              60\n",
       "Name: label, dtype: int64"
      ]
     },
     "execution_count": 14,
     "metadata": {},
     "output_type": "execute_result"
    }
   ],
   "source": [
    "data.label.value_counts()"
   ]
  },
  {
   "cell_type": "code",
   "execution_count": 15,
   "id": "d1467c3f-325a-4ff5-b067-38b639b9b389",
   "metadata": {},
   "outputs": [
    {
     "data": {
      "text/html": [
       "<div>\n",
       "<style scoped>\n",
       "    .dataframe tbody tr th:only-of-type {\n",
       "        vertical-align: middle;\n",
       "    }\n",
       "\n",
       "    .dataframe tbody tr th {\n",
       "        vertical-align: top;\n",
       "    }\n",
       "\n",
       "    .dataframe thead th {\n",
       "        text-align: right;\n",
       "    }\n",
       "</style>\n",
       "<table border=\"1\" class=\"dataframe\">\n",
       "  <thead>\n",
       "    <tr style=\"text-align: right;\">\n",
       "      <th></th>\n",
       "      <th>label</th>\n",
       "      <th>abies</th>\n",
       "      <th>accessories</th>\n",
       "      <th>accessory</th>\n",
       "      <th>adventure</th>\n",
       "      <th>aircraft</th>\n",
       "      <th>alcohol</th>\n",
       "      <th>alloy wheel</th>\n",
       "      <th>aluminium</th>\n",
       "      <th>amusement park</th>\n",
       "      <th>...</th>\n",
       "      <th>wheel</th>\n",
       "      <th>wildlife</th>\n",
       "      <th>winter</th>\n",
       "      <th>woman</th>\n",
       "      <th>wood</th>\n",
       "      <th>woodland</th>\n",
       "      <th>working out</th>\n",
       "      <th>yard</th>\n",
       "      <th>yoga</th>\n",
       "      <th>zoo</th>\n",
       "    </tr>\n",
       "  </thead>\n",
       "  <tbody>\n",
       "    <tr>\n",
       "      <th>count</th>\n",
       "      <td>313</td>\n",
       "      <td>313.000000</td>\n",
       "      <td>313.000000</td>\n",
       "      <td>313.000000</td>\n",
       "      <td>313.000000</td>\n",
       "      <td>313.000000</td>\n",
       "      <td>313.000000</td>\n",
       "      <td>313.000000</td>\n",
       "      <td>313.000000</td>\n",
       "      <td>313.000000</td>\n",
       "      <td>...</td>\n",
       "      <td>313.000000</td>\n",
       "      <td>313.000000</td>\n",
       "      <td>313.000000</td>\n",
       "      <td>313.00000</td>\n",
       "      <td>313.000000</td>\n",
       "      <td>313.000000</td>\n",
       "      <td>313.000000</td>\n",
       "      <td>313.000000</td>\n",
       "      <td>313.000000</td>\n",
       "      <td>313.000000</td>\n",
       "    </tr>\n",
       "    <tr>\n",
       "      <th>unique</th>\n",
       "      <td>4</td>\n",
       "      <td>NaN</td>\n",
       "      <td>NaN</td>\n",
       "      <td>NaN</td>\n",
       "      <td>NaN</td>\n",
       "      <td>NaN</td>\n",
       "      <td>NaN</td>\n",
       "      <td>NaN</td>\n",
       "      <td>NaN</td>\n",
       "      <td>NaN</td>\n",
       "      <td>...</td>\n",
       "      <td>NaN</td>\n",
       "      <td>NaN</td>\n",
       "      <td>NaN</td>\n",
       "      <td>NaN</td>\n",
       "      <td>NaN</td>\n",
       "      <td>NaN</td>\n",
       "      <td>NaN</td>\n",
       "      <td>NaN</td>\n",
       "      <td>NaN</td>\n",
       "      <td>NaN</td>\n",
       "    </tr>\n",
       "    <tr>\n",
       "      <th>top</th>\n",
       "      <td>summer-with-grandkids</td>\n",
       "      <td>NaN</td>\n",
       "      <td>NaN</td>\n",
       "      <td>NaN</td>\n",
       "      <td>NaN</td>\n",
       "      <td>NaN</td>\n",
       "      <td>NaN</td>\n",
       "      <td>NaN</td>\n",
       "      <td>NaN</td>\n",
       "      <td>NaN</td>\n",
       "      <td>...</td>\n",
       "      <td>NaN</td>\n",
       "      <td>NaN</td>\n",
       "      <td>NaN</td>\n",
       "      <td>NaN</td>\n",
       "      <td>NaN</td>\n",
       "      <td>NaN</td>\n",
       "      <td>NaN</td>\n",
       "      <td>NaN</td>\n",
       "      <td>NaN</td>\n",
       "      <td>NaN</td>\n",
       "    </tr>\n",
       "    <tr>\n",
       "      <th>freq</th>\n",
       "      <td>118</td>\n",
       "      <td>NaN</td>\n",
       "      <td>NaN</td>\n",
       "      <td>NaN</td>\n",
       "      <td>NaN</td>\n",
       "      <td>NaN</td>\n",
       "      <td>NaN</td>\n",
       "      <td>NaN</td>\n",
       "      <td>NaN</td>\n",
       "      <td>NaN</td>\n",
       "      <td>...</td>\n",
       "      <td>NaN</td>\n",
       "      <td>NaN</td>\n",
       "      <td>NaN</td>\n",
       "      <td>NaN</td>\n",
       "      <td>NaN</td>\n",
       "      <td>NaN</td>\n",
       "      <td>NaN</td>\n",
       "      <td>NaN</td>\n",
       "      <td>NaN</td>\n",
       "      <td>NaN</td>\n",
       "    </tr>\n",
       "    <tr>\n",
       "      <th>mean</th>\n",
       "      <td>NaN</td>\n",
       "      <td>0.025559</td>\n",
       "      <td>0.115016</td>\n",
       "      <td>0.115016</td>\n",
       "      <td>0.044728</td>\n",
       "      <td>0.006390</td>\n",
       "      <td>0.076677</td>\n",
       "      <td>0.003195</td>\n",
       "      <td>0.003195</td>\n",
       "      <td>0.003195</td>\n",
       "      <td>...</td>\n",
       "      <td>0.003195</td>\n",
       "      <td>0.003195</td>\n",
       "      <td>0.035144</td>\n",
       "      <td>0.13099</td>\n",
       "      <td>0.019169</td>\n",
       "      <td>0.009585</td>\n",
       "      <td>0.019169</td>\n",
       "      <td>0.019169</td>\n",
       "      <td>0.003195</td>\n",
       "      <td>0.003195</td>\n",
       "    </tr>\n",
       "    <tr>\n",
       "      <th>std</th>\n",
       "      <td>NaN</td>\n",
       "      <td>0.158069</td>\n",
       "      <td>0.319552</td>\n",
       "      <td>0.319552</td>\n",
       "      <td>0.207038</td>\n",
       "      <td>0.079808</td>\n",
       "      <td>0.266505</td>\n",
       "      <td>0.056523</td>\n",
       "      <td>0.056523</td>\n",
       "      <td>0.056523</td>\n",
       "      <td>...</td>\n",
       "      <td>0.056523</td>\n",
       "      <td>0.056523</td>\n",
       "      <td>0.184438</td>\n",
       "      <td>0.33793</td>\n",
       "      <td>0.137339</td>\n",
       "      <td>0.097587</td>\n",
       "      <td>0.137339</td>\n",
       "      <td>0.137339</td>\n",
       "      <td>0.056523</td>\n",
       "      <td>0.056523</td>\n",
       "    </tr>\n",
       "    <tr>\n",
       "      <th>min</th>\n",
       "      <td>NaN</td>\n",
       "      <td>0.000000</td>\n",
       "      <td>0.000000</td>\n",
       "      <td>0.000000</td>\n",
       "      <td>0.000000</td>\n",
       "      <td>0.000000</td>\n",
       "      <td>0.000000</td>\n",
       "      <td>0.000000</td>\n",
       "      <td>0.000000</td>\n",
       "      <td>0.000000</td>\n",
       "      <td>...</td>\n",
       "      <td>0.000000</td>\n",
       "      <td>0.000000</td>\n",
       "      <td>0.000000</td>\n",
       "      <td>0.00000</td>\n",
       "      <td>0.000000</td>\n",
       "      <td>0.000000</td>\n",
       "      <td>0.000000</td>\n",
       "      <td>0.000000</td>\n",
       "      <td>0.000000</td>\n",
       "      <td>0.000000</td>\n",
       "    </tr>\n",
       "    <tr>\n",
       "      <th>25%</th>\n",
       "      <td>NaN</td>\n",
       "      <td>0.000000</td>\n",
       "      <td>0.000000</td>\n",
       "      <td>0.000000</td>\n",
       "      <td>0.000000</td>\n",
       "      <td>0.000000</td>\n",
       "      <td>0.000000</td>\n",
       "      <td>0.000000</td>\n",
       "      <td>0.000000</td>\n",
       "      <td>0.000000</td>\n",
       "      <td>...</td>\n",
       "      <td>0.000000</td>\n",
       "      <td>0.000000</td>\n",
       "      <td>0.000000</td>\n",
       "      <td>0.00000</td>\n",
       "      <td>0.000000</td>\n",
       "      <td>0.000000</td>\n",
       "      <td>0.000000</td>\n",
       "      <td>0.000000</td>\n",
       "      <td>0.000000</td>\n",
       "      <td>0.000000</td>\n",
       "    </tr>\n",
       "    <tr>\n",
       "      <th>50%</th>\n",
       "      <td>NaN</td>\n",
       "      <td>0.000000</td>\n",
       "      <td>0.000000</td>\n",
       "      <td>0.000000</td>\n",
       "      <td>0.000000</td>\n",
       "      <td>0.000000</td>\n",
       "      <td>0.000000</td>\n",
       "      <td>0.000000</td>\n",
       "      <td>0.000000</td>\n",
       "      <td>0.000000</td>\n",
       "      <td>...</td>\n",
       "      <td>0.000000</td>\n",
       "      <td>0.000000</td>\n",
       "      <td>0.000000</td>\n",
       "      <td>0.00000</td>\n",
       "      <td>0.000000</td>\n",
       "      <td>0.000000</td>\n",
       "      <td>0.000000</td>\n",
       "      <td>0.000000</td>\n",
       "      <td>0.000000</td>\n",
       "      <td>0.000000</td>\n",
       "    </tr>\n",
       "    <tr>\n",
       "      <th>75%</th>\n",
       "      <td>NaN</td>\n",
       "      <td>0.000000</td>\n",
       "      <td>0.000000</td>\n",
       "      <td>0.000000</td>\n",
       "      <td>0.000000</td>\n",
       "      <td>0.000000</td>\n",
       "      <td>0.000000</td>\n",
       "      <td>0.000000</td>\n",
       "      <td>0.000000</td>\n",
       "      <td>0.000000</td>\n",
       "      <td>...</td>\n",
       "      <td>0.000000</td>\n",
       "      <td>0.000000</td>\n",
       "      <td>0.000000</td>\n",
       "      <td>0.00000</td>\n",
       "      <td>0.000000</td>\n",
       "      <td>0.000000</td>\n",
       "      <td>0.000000</td>\n",
       "      <td>0.000000</td>\n",
       "      <td>0.000000</td>\n",
       "      <td>0.000000</td>\n",
       "    </tr>\n",
       "    <tr>\n",
       "      <th>max</th>\n",
       "      <td>NaN</td>\n",
       "      <td>1.000000</td>\n",
       "      <td>1.000000</td>\n",
       "      <td>1.000000</td>\n",
       "      <td>1.000000</td>\n",
       "      <td>1.000000</td>\n",
       "      <td>1.000000</td>\n",
       "      <td>1.000000</td>\n",
       "      <td>1.000000</td>\n",
       "      <td>1.000000</td>\n",
       "      <td>...</td>\n",
       "      <td>1.000000</td>\n",
       "      <td>1.000000</td>\n",
       "      <td>1.000000</td>\n",
       "      <td>1.00000</td>\n",
       "      <td>1.000000</td>\n",
       "      <td>1.000000</td>\n",
       "      <td>1.000000</td>\n",
       "      <td>1.000000</td>\n",
       "      <td>1.000000</td>\n",
       "      <td>1.000000</td>\n",
       "    </tr>\n",
       "  </tbody>\n",
       "</table>\n",
       "<p>11 rows × 337 columns</p>\n",
       "</div>"
      ],
      "text/plain": [
       "                        label       abies  accessories   accessory  \\\n",
       "count                     313  313.000000   313.000000  313.000000   \n",
       "unique                      4         NaN          NaN         NaN   \n",
       "top     summer-with-grandkids         NaN          NaN         NaN   \n",
       "freq                      118         NaN          NaN         NaN   \n",
       "mean                      NaN    0.025559     0.115016    0.115016   \n",
       "std                       NaN    0.158069     0.319552    0.319552   \n",
       "min                       NaN    0.000000     0.000000    0.000000   \n",
       "25%                       NaN    0.000000     0.000000    0.000000   \n",
       "50%                       NaN    0.000000     0.000000    0.000000   \n",
       "75%                       NaN    0.000000     0.000000    0.000000   \n",
       "max                       NaN    1.000000     1.000000    1.000000   \n",
       "\n",
       "         adventure    aircraft     alcohol  alloy wheel   aluminium  \\\n",
       "count   313.000000  313.000000  313.000000   313.000000  313.000000   \n",
       "unique         NaN         NaN         NaN          NaN         NaN   \n",
       "top            NaN         NaN         NaN          NaN         NaN   \n",
       "freq           NaN         NaN         NaN          NaN         NaN   \n",
       "mean      0.044728    0.006390    0.076677     0.003195    0.003195   \n",
       "std       0.207038    0.079808    0.266505     0.056523    0.056523   \n",
       "min       0.000000    0.000000    0.000000     0.000000    0.000000   \n",
       "25%       0.000000    0.000000    0.000000     0.000000    0.000000   \n",
       "50%       0.000000    0.000000    0.000000     0.000000    0.000000   \n",
       "75%       0.000000    0.000000    0.000000     0.000000    0.000000   \n",
       "max       1.000000    1.000000    1.000000     1.000000    1.000000   \n",
       "\n",
       "        amusement park  ...       wheel    wildlife      winter      woman  \\\n",
       "count       313.000000  ...  313.000000  313.000000  313.000000  313.00000   \n",
       "unique             NaN  ...         NaN         NaN         NaN        NaN   \n",
       "top                NaN  ...         NaN         NaN         NaN        NaN   \n",
       "freq               NaN  ...         NaN         NaN         NaN        NaN   \n",
       "mean          0.003195  ...    0.003195    0.003195    0.035144    0.13099   \n",
       "std           0.056523  ...    0.056523    0.056523    0.184438    0.33793   \n",
       "min           0.000000  ...    0.000000    0.000000    0.000000    0.00000   \n",
       "25%           0.000000  ...    0.000000    0.000000    0.000000    0.00000   \n",
       "50%           0.000000  ...    0.000000    0.000000    0.000000    0.00000   \n",
       "75%           0.000000  ...    0.000000    0.000000    0.000000    0.00000   \n",
       "max           1.000000  ...    1.000000    1.000000    1.000000    1.00000   \n",
       "\n",
       "              wood    woodland  working out        yard        yoga  \\\n",
       "count   313.000000  313.000000   313.000000  313.000000  313.000000   \n",
       "unique         NaN         NaN          NaN         NaN         NaN   \n",
       "top            NaN         NaN          NaN         NaN         NaN   \n",
       "freq           NaN         NaN          NaN         NaN         NaN   \n",
       "mean      0.019169    0.009585     0.019169    0.019169    0.003195   \n",
       "std       0.137339    0.097587     0.137339    0.137339    0.056523   \n",
       "min       0.000000    0.000000     0.000000    0.000000    0.000000   \n",
       "25%       0.000000    0.000000     0.000000    0.000000    0.000000   \n",
       "50%       0.000000    0.000000     0.000000    0.000000    0.000000   \n",
       "75%       0.000000    0.000000     0.000000    0.000000    0.000000   \n",
       "max       1.000000    1.000000     1.000000    1.000000    1.000000   \n",
       "\n",
       "               zoo  \n",
       "count   313.000000  \n",
       "unique         NaN  \n",
       "top            NaN  \n",
       "freq           NaN  \n",
       "mean      0.003195  \n",
       "std       0.056523  \n",
       "min       0.000000  \n",
       "25%       0.000000  \n",
       "50%       0.000000  \n",
       "75%       0.000000  \n",
       "max       1.000000  \n",
       "\n",
       "[11 rows x 337 columns]"
      ]
     },
     "execution_count": 15,
     "metadata": {},
     "output_type": "execute_result"
    }
   ],
   "source": [
    "data.describe(include='all')"
   ]
  },
  {
   "cell_type": "markdown",
   "id": "6e073db2-30b4-4d92-a2ce-12b201a40b9d",
   "metadata": {},
   "source": [
    "### identify correlated variables and remove"
   ]
  },
  {
   "cell_type": "code",
   "execution_count": 16,
   "id": "851ab680-5727-4afd-86d1-dc03935cfb06",
   "metadata": {},
   "outputs": [],
   "source": [
    "import seaborn as sns"
   ]
  },
  {
   "cell_type": "code",
   "execution_count": 17,
   "id": "34d61e89-b57e-4d89-aca1-9ca4007ba87e",
   "metadata": {},
   "outputs": [
    {
     "data": {
      "text/plain": [
       "<AxesSubplot: >"
      ]
     },
     "execution_count": 17,
     "metadata": {},
     "output_type": "execute_result"
    },
    {
     "data": {
      "image/png": "[encoded data removed]",
      "text/plain": [
       "<Figure size 432x288 with 2 Axes>"
      ]
     },
     "metadata": {
      "needs_background": "light"
     },
     "output_type": "display_data"
    }
   ],
   "source": [
    "sns.heatmap(data.corr())"
   ]
  },
  {
   "cell_type": "code",
   "execution_count": 18,
   "id": "1c623c49-caf8-4c32-826a-318cabf149d1",
   "metadata": {},
   "outputs": [],
   "source": [
    "correlation_limit = 0.6"
   ]
  },
  {
   "cell_type": "code",
   "execution_count": 19,
   "id": "6ec17fe5-9245-43f8-b493-3a8b6e0535cf",
   "metadata": {},
   "outputs": [],
   "source": [
    "corrs = data.corr()"
   ]
  },
  {
   "cell_type": "markdown",
   "id": "52deae3f-1d37-47a3-82f9-6c75d0aaa27e",
   "metadata": {},
   "source": [
    "# here we should maybe look at max individual correlations with dummy variables of target "
   ]
  },
  {
   "cell_type": "code",
   "execution_count": 20,
   "id": "c41dce16-570b-4ee5-87cb-92ce6128d695",
   "metadata": {},
   "outputs": [],
   "source": [
    "corrs = data.corr()\n",
    "keep_vars = []\n",
    "for i in corrs:\n",
    "    highs = corrs[i][corrs[i]>correlation_limit]\n",
    "    ranked = pd.merge(highs, pd.DataFrame(label_counts), left_index=True, right_index=True)\n",
    "    keep_vars.append(ranked.sort_values(0, ascending=False).iloc[0].name)\n",
    "    \n",
    "model_data = data[['label']+sorted(list(set(keep_vars)))]\n",
    "\n",
    "    "
   ]
  },
  {
   "cell_type": "code",
   "execution_count": 21,
   "id": "a594a47b-45b6-4bd5-9b80-eb915412d1b5",
   "metadata": {},
   "outputs": [
    {
     "data": {
      "text/plain": [
       "164"
      ]
     },
     "execution_count": 21,
     "metadata": {},
     "output_type": "execute_result"
    }
   ],
   "source": [
    "len(set(keep_vars))"
   ]
  },
  {
   "cell_type": "code",
   "execution_count": 22,
   "id": "faffd6c4-b6d7-4925-88c2-3dbf27137844",
   "metadata": {},
   "outputs": [],
   "source": [
    "model_data = data[['label']+sorted(list(set(keep_vars)))]\n",
    "\n",
    "# mapper = {label:n for n, label in enumerate(model_data.label.unique())}\n",
    "# model_data.label = model_data.label.replace(mapper).astype(str)"
   ]
  },
  {
   "cell_type": "markdown",
   "id": "f4b3f901-9aa3-4053-b8a8-d7fdffcbaf4d",
   "metadata": {},
   "source": [
    "# Model"
   ]
  },
  {
   "cell_type": "code",
   "execution_count": 23,
   "id": "3dc4e726-0923-47a8-a13e-345088d176d1",
   "metadata": {},
   "outputs": [],
   "source": [
    "from sklearn.model_selection import train_test_split"
   ]
  },
  {
   "cell_type": "code",
   "execution_count": 24,
   "id": "e8620fda-dce1-43d9-8fef-897c7440cbaa",
   "metadata": {},
   "outputs": [],
   "source": [
    "X = model_data.drop(columns=['label'])"
   ]
  },
  {
   "cell_type": "code",
   "execution_count": 25,
   "id": "905f0579-a4a6-4cf7-8c15-60ef250ba4e4",
   "metadata": {},
   "outputs": [],
   "source": [
    "y = model_data.label"
   ]
  },
  {
   "cell_type": "code",
   "execution_count": 26,
   "id": "3357382f-ffe8-47c7-8af6-d414afe7e487",
   "metadata": {},
   "outputs": [],
   "source": [
    "X_train, X_test, y_train, y_test = train_test_split(X, y, test_size=0.1, random_state=1)\n",
    "\n"
   ]
  },
  {
   "cell_type": "code",
   "execution_count": 27,
   "id": "9399cfa1-5754-4364-bbd0-11a88f5a4b34",
   "metadata": {},
   "outputs": [
    {
     "data": {
      "text/plain": [
       "summer-with-grandkids    109\n",
       "skiing-holiday            60\n",
       "garden-birthday-party     58\n",
       "day-at-beach              54\n",
       "Name: label, dtype: int64"
      ]
     },
     "execution_count": 27,
     "metadata": {},
     "output_type": "execute_result"
    }
   ],
   "source": [
    "y_train.value_counts()"
   ]
  },
  {
   "cell_type": "code",
   "execution_count": 28,
   "id": "8876c136-cab7-4571-9137-b5dd3f4b8fcd",
   "metadata": {},
   "outputs": [],
   "source": [
    "from sklearn.utils import resample\n"
   ]
  },
  {
   "cell_type": "code",
   "execution_count": 29,
   "id": "7ebfd2f3-a39a-4e73-8b66-c2ce1685ff1f",
   "metadata": {},
   "outputs": [],
   "source": [
    "train = X_train.assign(label=y_train)"
   ]
  },
  {
   "cell_type": "code",
   "execution_count": 30,
   "id": "343e73cb-4c6c-42de-8add-41071e025568",
   "metadata": {},
   "outputs": [
    {
     "name": "stderr",
     "output_type": "stream",
     "text": [
      "/var/folders/q3/0brx56793x93gv9xy8dl5h7c0000gq/T/ipykernel_31943/2381193370.py:2: FutureWarning: The default dtype for empty Series will be 'object' instead of 'float64' in a future version. Specify a dtype explicitly to silence this warning.\n",
      "  balanced_y = pd.Series()\n"
     ]
    }
   ],
   "source": [
    "balanced_X = pd.DataFrame()\n",
    "balanced_y = pd.Series()\n",
    "\n",
    "for i in train.label.unique():\n",
    "    subset = train[train.label==i]\n",
    "    X_oversampled, y_oversampled = resample(subset.drop(columns=['label']),\n",
    "                                        subset.label,\n",
    "                                        replace=True,\n",
    "                                        n_samples=y_train.value_counts().max(),\n",
    "                                        random_state=1)\n",
    "    balanced_X = pd.concat([balanced_X, X_oversampled])\n",
    "    balanced_y = pd.concat([balanced_y, y_oversampled])"
   ]
  },
  {
   "cell_type": "code",
   "execution_count": 31,
   "id": "c1b6a766-8cf0-45fd-8936-cc7ff523d9bd",
   "metadata": {},
   "outputs": [
    {
     "data": {
      "text/plain": [
       "garden-birthday-party    109\n",
       "summer-with-grandkids    109\n",
       "day-at-beach             109\n",
       "skiing-holiday           109\n",
       "dtype: int64"
      ]
     },
     "execution_count": 31,
     "metadata": {},
     "output_type": "execute_result"
    }
   ],
   "source": [
    "balanced_y.value_counts()"
   ]
  },
  {
   "cell_type": "code",
   "execution_count": null,
   "id": "c87f1001-1fa6-47aa-aca1-b3405451335c",
   "metadata": {},
   "outputs": [],
   "source": []
  },
  {
   "cell_type": "code",
   "execution_count": 32,
   "id": "252223d8-c82b-49ce-a43f-8f261f736742",
   "metadata": {},
   "outputs": [],
   "source": [
    "from sklearn.linear_model import ElasticNet\n",
    "\n",
    "from sklearn.multiclass import OneVsRestClassifier\n",
    "\n",
    "from sklearn.linear_model import LogisticRegression\n",
    "\n",
    "\n",
    "from sklearn.model_selection import cross_val_score\n",
    "from sklearn.model_selection import GridSearchCV\n",
    "\n",
    "\n",
    "clf = OneVsRestClassifier(LogisticRegression(penalty='l1', random_state=42, solver ='liblinear'))\n"
   ]
  },
  {
   "cell_type": "code",
   "execution_count": null,
   "id": "a00bdbe1-4550-40dc-be05-548024a9eb7c",
   "metadata": {},
   "outputs": [],
   "source": []
  },
  {
   "cell_type": "code",
   "execution_count": 33,
   "id": "16438141-8006-4728-aa62-ef2a05c79762",
   "metadata": {},
   "outputs": [
    {
     "name": "stdout",
     "output_type": "stream",
     "text": [
      "Best hyperparameters: {'estimator__C': 1}\n",
      "Best score: 0.974712643678161\n"
     ]
    }
   ],
   "source": [
    "param_grid = {'estimator__C': [1,0.1, 0.01, 0.001]}\n",
    "\n",
    "# Perform a grid search with 5-fold cross-validation\n",
    "grid_search = GridSearchCV(clf, param_grid, cv=5)\n",
    "grid_search.fit(balanced_X, balanced_y)\n",
    "\n",
    "# Print the best hyperparameters and the corresponding mean score\n",
    "print(\"Best hyperparameters:\", grid_search.best_params_)\n",
    "print(\"Best score:\", grid_search.best_score_)"
   ]
  },
  {
   "cell_type": "code",
   "execution_count": 34,
   "id": "86ac860d-a098-4b3f-867f-2b8e64929059",
   "metadata": {},
   "outputs": [
    {
     "data": {
      "text/plain": [
       "{'mean_fit_time': array([0.01193399, 0.00798769, 0.00664706, 0.00680857]),\n",
       " 'std_fit_time': array([3.77241052e-03, 2.44940039e-04, 8.45696477e-05, 2.41777289e-04]),\n",
       " 'mean_score_time': array([0.00479584, 0.0036603 , 0.00367098, 0.00384059]),\n",
       " 'std_score_time': array([0.001118  , 0.00010341, 0.00043321, 0.00064553]),\n",
       " 'param_estimator__C': masked_array(data=[1, 0.1, 0.01, 0.001],\n",
       "              mask=[False, False, False, False],\n",
       "        fill_value='?',\n",
       "             dtype=object),\n",
       " 'params': [{'estimator__C': 1},\n",
       "  {'estimator__C': 0.1},\n",
       "  {'estimator__C': 0.01},\n",
       "  {'estimator__C': 0.001}],\n",
       " 'split0_test_score': array([1.        , 0.85227273, 0.25      , 0.25      ]),\n",
       " 'split1_test_score': array([1.        , 0.87356322, 0.25287356, 0.25287356]),\n",
       " 'split2_test_score': array([0.94252874, 0.8045977 , 0.25287356, 0.25287356]),\n",
       " 'split3_test_score': array([0.98850575, 0.85057471, 0.24137931, 0.24137931]),\n",
       " 'split4_test_score': array([0.94252874, 0.86206897, 0.25287356, 0.25287356]),\n",
       " 'mean_test_score': array([0.97471264, 0.84861546, 0.25      , 0.25      ]),\n",
       " 'std_test_score': array([0.02661112, 0.02348687, 0.0044517 , 0.0044517 ]),\n",
       " 'rank_test_score': array([1, 2, 3, 3], dtype=int32)}"
      ]
     },
     "execution_count": 34,
     "metadata": {},
     "output_type": "execute_result"
    }
   ],
   "source": [
    "grid_search.cv_results_"
   ]
  },
  {
   "cell_type": "code",
   "execution_count": 35,
   "id": "173772e4-8313-42ff-a887-70d66228556d",
   "metadata": {},
   "outputs": [],
   "source": [
    "from sklearn.metrics import fbeta_score"
   ]
  },
  {
   "cell_type": "code",
   "execution_count": 36,
   "id": "cfb88706-cb32-4731-b03b-45313acfdd4b",
   "metadata": {},
   "outputs": [
    {
     "name": "stdout",
     "output_type": "stream",
     "text": [
      "Accuracy scores: [1.         1.         0.94252874 0.98850575 0.94252874]\n",
      "Mean accuracy: 0.974712643678161\n",
      "Standard deviation: 0.02661111931675916\n"
     ]
    }
   ],
   "source": [
    "scores = cross_val_score(clf, balanced_X, balanced_y, cv=5)\n",
    "# Print the accuracy scores for each fold\n",
    "print(\"Accuracy scores:\", scores)\n",
    "\n",
    "# Print the mean accuracy and standard deviation\n",
    "print(\"Mean accuracy:\", scores.mean())\n",
    "print(\"Standard deviation:\", scores.std())"
   ]
  },
  {
   "cell_type": "code",
   "execution_count": 37,
   "id": "7a38ac49-fb3e-410e-b000-ea2204693e5b",
   "metadata": {},
   "outputs": [],
   "source": [
    "from sklearn.metrics import confusion_matrix"
   ]
  },
  {
   "cell_type": "code",
   "execution_count": 38,
   "id": "efc34557-2f77-4841-afb3-01d541cf245b",
   "metadata": {},
   "outputs": [
    {
     "data": {
      "text/plain": [
       "0.96875"
      ]
     },
     "execution_count": 38,
     "metadata": {},
     "output_type": "execute_result"
    }
   ],
   "source": [
    "\n",
    "\n",
    "\n",
    "clf.fit(balanced_X, balanced_y)\n",
    "\n",
    "\n",
    "clf.fit(balanced_X, balanced_y)\n",
    "\n",
    "\n",
    "clf.score(X_test, y_test)\n"
   ]
  },
  {
   "cell_type": "code",
   "execution_count": 39,
   "id": "beb3391a-ab8a-4a1d-8825-81012b3fe8bf",
   "metadata": {},
   "outputs": [],
   "source": [
    "# open a file in binary mode\n",
    "with open('log_reg.pickle', 'wb') as file:\n",
    "    # dump the object to the file\n",
    "    pickle.dump(clf, file)"
   ]
  },
  {
   "cell_type": "code",
   "execution_count": 40,
   "id": "40c9b072-05d8-4ee2-959e-73020fde20de",
   "metadata": {},
   "outputs": [
    {
     "data": {
      "text/plain": [
       "['day-at-beach',\n",
       " 'garden-birthday-party',\n",
       " 'skiing-holiday',\n",
       " 'summer-with-grandkids']"
      ]
     },
     "execution_count": 40,
     "metadata": {},
     "output_type": "execute_result"
    }
   ],
   "source": [
    "\n",
    "\n",
    "\n",
    "labels = sorted(train.label.unique())\n",
    "labels"
   ]
  },
  {
   "cell_type": "code",
   "execution_count": 41,
   "id": "3322c64b-95ed-48ac-b941-eac35848a2fe",
   "metadata": {},
   "outputs": [
    {
     "ename": "NameError",
     "evalue": "name 'y_pred' is not defined",
     "output_type": "error",
     "traceback": [
      "\u001b[0;31m---------------------------------------------------------------------------\u001b[0m",
      "\u001b[0;31mNameError\u001b[0m                                 Traceback (most recent call last)",
      "Input \u001b[0;32mIn [41]\u001b[0m, in \u001b[0;36m<cell line: 1>\u001b[0;34m()\u001b[0m\n\u001b[0;32m----> 1\u001b[0m confusion_matrix(y_test, \u001b[43my_pred\u001b[49m, labels \u001b[38;5;241m=\u001b[39m labels)\n",
      "\u001b[0;31mNameError\u001b[0m: name 'y_pred' is not defined"
     ]
    }
   ],
   "source": [
    "confusion_matrix(y_test, y_pred, labels = labels)"
   ]
  },
  {
   "cell_type": "code",
   "execution_count": null,
   "id": "9aeed9ab-a845-4892-b8ad-49f505c35bb4",
   "metadata": {},
   "outputs": [],
   "source": [
    "y_pred"
   ]
  },
  {
   "cell_type": "code",
   "execution_count": 43,
   "id": "371e572c-9458-46b6-aea9-b484c92cf1f7",
   "metadata": {},
   "outputs": [],
   "source": [
    "import numpy as np"
   ]
  },
  {
   "cell_type": "code",
   "execution_count": 44,
   "id": "56de96ec-cea0-48eb-a4bc-fe328686818a",
   "metadata": {},
   "outputs": [],
   "source": [
    "features = clf.feature_names_in_[((np.abs(clf.estimators_[0].coef_) > 0) |\\\n",
    "(np.abs(clf.estimators_[1].coef_) > 0) |\\\n",
    "(np.abs(clf.estimators_[2].coef_) > 0) |\\\n",
    "(np.abs(clf.estimators_[3].coef_) > 0))[0]]"
   ]
  },
  {
   "cell_type": "code",
   "execution_count": 45,
   "id": "937e4896-542c-4839-8b01-e40a53091c89",
   "metadata": {},
   "outputs": [
    {
     "data": {
      "text/plain": [
       "array(['accessories', 'animal', 'apparel', 'art', 'ball', 'beer glass',\n",
       "       'beverage', 'cake', 'cap', 'child', 'coat', 'couch', 'crowd',\n",
       "       'dating', 'denim', 'exercise', 'face', 'family', 'female',\n",
       "       'finger', 'food', 'footwear', 'furniture', 'hat', 'heel', 'helmet',\n",
       "       'human', 'indoors', 'kite', 'leisure activities', 'nature',\n",
       "       'party hat', 'people', 'plant', 'shorts', 'skin', 'sleeve', 'snow',\n",
       "       'sport', 'swimwear', 'tourist', 'transportation', 'vacation',\n",
       "       'water', 'woman'], dtype=object)"
      ]
     },
     "execution_count": 45,
     "metadata": {},
     "output_type": "execute_result"
    }
   ],
   "source": [
    "features"
   ]
  },
  {
   "cell_type": "code",
   "execution_count": 50,
   "id": "d0499dcc-7b8a-4c1a-a2b9-c836ed3ad751",
   "metadata": {},
   "outputs": [],
   "source": [
    "# open a file in binary mode\n",
    "with open('features.pickle', 'wb') as file:\n",
    "    # dump the object to the file\n",
    "    pickle.dump(features.tolist(), file)"
   ]
  },
  {
   "cell_type": "markdown",
   "id": "4d1ac9c4-2713-4e87-87a6-713cd30e5548",
   "metadata": {},
   "source": [
    "# Random Forest"
   ]
  },
  {
   "cell_type": "code",
   "execution_count": null,
   "id": "7aa40d53-63cb-4866-8cd3-0f0bf901b1e1",
   "metadata": {},
   "outputs": [],
   "source": [
    "from sklearn.ensemble import RandomForestClassifier\n",
    "\n",
    "\n",
    "param_grid = {\n",
    "\t'n_estimators': [25, 50, 100, 150],\n",
    "\t'max_features': ['sqrt', 'log2', None],\n",
    "\t'max_depth': [3, 6, 9],\n",
    "\t'max_leaf_nodes': [3, 6, 9],\n",
    "}\n",
    "\n",
    "\n",
    "grid_search = GridSearchCV(RandomForestClassifier(),\n",
    "                           param_grid=param_grid, verbose = 1)\n",
    "grid_search.fit(balanced_X, balanced_y)\n",
    "print(grid_search.best_estimator_)"
   ]
  },
  {
   "cell_type": "code",
   "execution_count": 154,
   "id": "4885e347-9860-4164-af84-c19a25ddc067",
   "metadata": {},
   "outputs": [],
   "source": [
    "selected = grid_search.best_estimator_.get_params()"
   ]
  },
  {
   "cell_type": "code",
   "execution_count": 155,
   "id": "d657bceb-40f9-45b4-8552-c66419421dd9",
   "metadata": {},
   "outputs": [],
   "source": [
    "rf = RandomForestClassifier(**selected)"
   ]
  },
  {
   "cell_type": "code",
   "execution_count": 156,
   "id": "dc0a6cb4-ac96-4ae3-8aaf-05c53bec0331",
   "metadata": {},
   "outputs": [
    {
     "name": "stdout",
     "output_type": "stream",
     "text": [
      "Accuracy scores: [0.94318182 0.96551724 0.90804598 0.95402299 0.91954023]\n",
      "Mean accuracy: 0.9380616509926855\n",
      "Standard deviation: 0.02134841247081346\n"
     ]
    }
   ],
   "source": [
    "scores = cross_val_score(rf, balanced_X, balanced_y, cv=5)\n",
    "# Print the accuracy scores for each fold\n",
    "print(\"Accuracy scores:\", scores)\n",
    "\n",
    "# Print the mean accuracy and standard deviation\n",
    "print(\"Mean accuracy:\", scores.mean())\n",
    "print(\"Standard deviation:\", scores.std())"
   ]
  },
  {
   "cell_type": "code",
   "execution_count": 157,
   "id": "a582f3f9-c9e4-4890-b18f-cdaa96d4fd27",
   "metadata": {},
   "outputs": [
    {
     "data": {
      "text/plain": [
       "0.9375"
      ]
     },
     "execution_count": 157,
     "metadata": {},
     "output_type": "execute_result"
    }
   ],
   "source": [
    "\n",
    "\n",
    "rf.fit(balanced_X, balanced_y)\n",
    "\n",
    "\n",
    "rf.score(X_test, y_test)"
   ]
  },
  {
   "cell_type": "markdown",
   "id": "53161827-6897-465f-8276-4abaf80d9a7c",
   "metadata": {},
   "source": [
    "# Follow ups"
   ]
  },
  {
   "cell_type": "markdown",
   "id": "11cce024-c59e-4efe-8c26-85199b6ee78d",
   "metadata": {},
   "source": [
    "\n",
    "\n",
    "Latitudes and longitudes - map to countries - Andorra / france for skiing for example\n",
    "time stamps - time of year could be indicative - summer vs skiing.  Could also combine with country since different countries have different seasons.\n",
    "\n",
    "\n",
    "\n",
    "more data would mean RF maybe improve performance, currently overfitting\n",
    "Better idea of scoring - currently very small test data sets \n",
    "\n"
   ]
  },
  {
   "cell_type": "markdown",
   "id": "beec0bc1-9c74-4470-ba8b-8076f3cc0bff",
   "metadata": {},
   "source": [
    "# ensure covered:\n",
    "\n",
    "project\n",
    "- how you build machine learning pipelines\n",
    "- approach new datasets\n",
    "- evaluate strengths and weaknesses of machine learning models.\n",
    "\n",
    "in person:\n",
    "- productionised\n",
    "- suitable for running in an offline-mobile environment\n",
    "- iterated for improved results in the future."
   ]
  },
  {
   "cell_type": "code",
   "execution_count": null,
   "id": "bd2b5f34-45fa-4cd5-bafd-8b7ba5eef22e",
   "metadata": {},
   "outputs": [],
   "source": []
  }
 ],
 "metadata": {
  "kernelspec": {
   "display_name": "Python 3 (ipykernel)",
   "language": "python",
   "name": "python3"
  },
  "language_info": {
   "codemirror_mode": {
    "name": "ipython",
    "version": 3
   },
   "file_extension": ".py",
   "mimetype": "text/x-python",
   "name": "python",
   "nbconvert_exporter": "python",
   "pygments_lexer": "ipython3",
   "version": "3.9.13"
  }
 },
 "nbformat": 4,
 "nbformat_minor": 5
}
